{
 "cells": [
  {
   "cell_type": "markdown",
   "metadata": {},
   "source": [
    "<h2> To run app on http://0.0.0.0:8080/, run cell below.\n",
    "    \n",
    "    Use data/sample_data.csv for sample prediction."
   ]
  },
  {
   "cell_type": "code",
   "execution_count": null,
   "metadata": {},
   "outputs": [
    {
     "name": "stdout",
     "output_type": "stream",
     "text": [
      " * Serving Flask app \"__main__\" (lazy loading)\n",
      " * Environment: production\n",
      "\u001b[31m   WARNING: This is a development server. Do not use it in a production deployment.\u001b[0m\n",
      "\u001b[2m   Use a production WSGI server instead.\u001b[0m\n",
      " * Debug mode: off\n"
     ]
    },
    {
     "name": "stderr",
     "output_type": "stream",
     "text": [
      " * Running on http://0.0.0.0:8080/ (Press CTRL+C to quit)\n",
      "127.0.0.1 - - [04/Feb/2023 14:38:44] \"\u001b[37mGET / HTTP/1.1\u001b[0m\" 200 -\n",
      "127.0.0.1 - - [04/Feb/2023 14:38:49] \"\u001b[37mPOST /output HTTP/1.1\u001b[0m\" 200 -\n"
     ]
    },
    {
     "name": "stdout",
     "output_type": "stream",
     "text": [
      "1675517929.20938\n"
     ]
    },
    {
     "name": "stderr",
     "output_type": "stream",
     "text": [
      "127.0.0.1 - - [04/Feb/2023 14:38:55] \"\u001b[37mPOST /output HTTP/1.1\u001b[0m\" 200 -\n",
      "127.0.0.1 - - [04/Feb/2023 14:38:59] \"\u001b[37mPOST /output HTTP/1.1\u001b[0m\" 200 -\n"
     ]
    },
    {
     "name": "stdout",
     "output_type": "stream",
     "text": [
      "1675517939.298903\n"
     ]
    }
   ],
   "source": [
    "import pandas as pd\n",
    "import numpy as np\n",
    "import sklearn\n",
    "import joblib\n",
    "from flask import Flask, render_template, request, session, send_file\n",
    "from flask_session import Session\n",
    "import os\n",
    "\n",
    "SESSION_TYPE = 'memcache'\n",
    "    \n",
    "app = Flask(__name__)\n",
    "sess = Session()\n",
    "\n",
    "@app.route(\"/\")\n",
    "def home():\n",
    "    return render_template(\"input.html\")\n",
    "\n",
    "@app.route(\"/output\", methods=[\"GET\", \"POST\"])\n",
    "def output():\n",
    "\n",
    "    if request.method == \"POST\":\n",
    "        try:\n",
    "            file = request.files['input_file']\n",
    "            df = pd.read_csv(file)\n",
    "\n",
    "            X =  df.to_numpy()\n",
    "            X = scaler.transform(X)\n",
    "\n",
    "            prediction = list(map(int, model.predict(X)))\n",
    "            session['df'] = df\n",
    "            session['prediction'] = prediction\n",
    "\n",
    "            return render_template(\"output.html\", prediction=prediction)\n",
    "        except:\n",
    "            return render_template(\"output.html\")\n",
    "    return render_template(\"output.html\")\n",
    "\n",
    "@app.route('/download')\n",
    "def download():\n",
    "    prediction = session.get('prediction', None)\n",
    "    df_download = session.get('df', None)\n",
    "    \n",
    "    path = f\"predictions/predicted.csv\"\n",
    "    \n",
    "    df_download['target'] = prediction\n",
    "    df_download.to_csv(path, index=False)\n",
    "    return send_file(path, as_attachment=True)\n",
    "\n",
    "if __name__==\"__main__\":\n",
    "    app.secret_key = 'super secret key'\n",
    "    app.config['SESSION_TYPE'] = 'filesystem'\n",
    "    sess.init_app(app)\n",
    "    \n",
    "    scaler = joblib.load('scalers/std_scaler.bin')\n",
    "    model = joblib.load('models/model.pkl')\n",
    "    \n",
    "    app.run(host=\"0.0.0.0\", port=8080)"
   ]
  },
  {
   "cell_type": "code",
   "execution_count": null,
   "metadata": {},
   "outputs": [],
   "source": []
  }
 ],
 "metadata": {
  "kernelspec": {
   "display_name": "Python 3",
   "language": "python",
   "name": "python3"
  },
  "language_info": {
   "codemirror_mode": {
    "name": "ipython",
    "version": 3
   },
   "file_extension": ".py",
   "mimetype": "text/x-python",
   "name": "python",
   "nbconvert_exporter": "python",
   "pygments_lexer": "ipython3",
   "version": "3.7.3"
  }
 },
 "nbformat": 4,
 "nbformat_minor": 2
}
