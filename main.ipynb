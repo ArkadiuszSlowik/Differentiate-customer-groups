{
 "cells": [
  {
   "cell_type": "markdown",
   "metadata": {},
   "source": [
    "<h2> Goals </h2>\n",
    "\n",
    "The goal of this project is to build a data driven model that finds the customer groups that lead to good\n",
    "ROIs (Return on Investment).\n",
    "\n",
    "1. What percentage of campaigns led to group 1 being the most profitable? What about group 2? And neither of the groups?\n",
    "\n",
    "2. Based on all the information you have, can you build a model to optimize future campaigns? Given the characteristics of two different groups of customers, please predict which group to target.\n",
    "\n",
    "3. By how much do you think your model could improve campaign success rates? How would you test that?\n",
    "\n",
    "4. Optional: Can you write an API for your model that the marketing IT team can call?"
   ]
  },
  {
   "cell_type": "code",
   "execution_count": 1,
   "metadata": {},
   "outputs": [
    {
     "name": "stdout",
     "output_type": "stream",
     "text": [
      "Python version: 3.7.3 (default, Mar 27 2019, 22:11:17) \n",
      "[GCC 7.3.0]\n"
     ]
    }
   ],
   "source": [
    "import sys\n",
    "print(f'Python version: {sys.version}')"
   ]
  },
  {
   "cell_type": "code",
   "execution_count": 2,
   "metadata": {},
   "outputs": [],
   "source": [
    "import pandas as pd\n",
    "import numpy as np\n",
    "import matplotlib.pyplot as plt\n",
    "import seaborn as sns\n",
    "from sklearn.svm import LinearSVC, SVC\n",
    "from sklearn.model_selection import train_test_split\n",
    "from sklearn.preprocessing import StandardScaler\n",
    "from sklearn.pipeline import Pipeline\n",
    "from sklearn.model_selection import GridSearchCV, RandomizedSearchCV\n",
    "from pprint import pprint\n",
    "from scipy.stats import uniform, randint\n",
    "from sklearn.metrics import roc_auc_score, balanced_accuracy_score\n",
    "from sklearn.neighbors import KNeighborsClassifier\n",
    "from sklearn.ensemble import RandomForestClassifier, ExtraTreesClassifier, VotingClassifier, BaggingClassifier, GradientBoostingClassifier\n",
    "from sklearn.tree import DecisionTreeClassifier, ExtraTreeClassifier"
   ]
  },
  {
   "cell_type": "code",
   "execution_count": 3,
   "metadata": {},
   "outputs": [],
   "source": [
    "df = pd.read_csv('data/customerGroups.csv')"
   ]
  },
  {
   "cell_type": "code",
   "execution_count": 4,
   "metadata": {},
   "outputs": [
    {
     "data": {
      "text/html": [
       "<div>\n",
       "<style scoped>\n",
       "    .dataframe tbody tr th:only-of-type {\n",
       "        vertical-align: middle;\n",
       "    }\n",
       "\n",
       "    .dataframe tbody tr th {\n",
       "        vertical-align: top;\n",
       "    }\n",
       "\n",
       "    .dataframe thead th {\n",
       "        text-align: right;\n",
       "    }\n",
       "</style>\n",
       "<table border=\"1\" class=\"dataframe\">\n",
       "  <thead>\n",
       "    <tr style=\"text-align: right;\">\n",
       "      <th></th>\n",
       "      <th>g1_1</th>\n",
       "      <th>g1_2</th>\n",
       "      <th>g1_3</th>\n",
       "      <th>g1_4</th>\n",
       "      <th>g1_5</th>\n",
       "      <th>g1_6</th>\n",
       "      <th>g1_7</th>\n",
       "      <th>g1_8</th>\n",
       "      <th>g1_9</th>\n",
       "      <th>g1_10</th>\n",
       "      <th>...</th>\n",
       "      <th>c_20</th>\n",
       "      <th>c_21</th>\n",
       "      <th>c_22</th>\n",
       "      <th>c_23</th>\n",
       "      <th>c_24</th>\n",
       "      <th>c_25</th>\n",
       "      <th>c_26</th>\n",
       "      <th>c_27</th>\n",
       "      <th>c_28</th>\n",
       "      <th>target</th>\n",
       "    </tr>\n",
       "  </thead>\n",
       "  <tbody>\n",
       "    <tr>\n",
       "      <th>0</th>\n",
       "      <td>4.50</td>\n",
       "      <td>1</td>\n",
       "      <td>3</td>\n",
       "      <td>4</td>\n",
       "      <td>5</td>\n",
       "      <td>1</td>\n",
       "      <td>1</td>\n",
       "      <td>4</td>\n",
       "      <td>6</td>\n",
       "      <td>0</td>\n",
       "      <td>...</td>\n",
       "      <td>-0.383704</td>\n",
       "      <td>-0.065449</td>\n",
       "      <td>0.584000</td>\n",
       "      <td>0.488000</td>\n",
       "      <td>0</td>\n",
       "      <td>-3.232000</td>\n",
       "      <td>-1.944000</td>\n",
       "      <td>-0.007944</td>\n",
       "      <td>1.76</td>\n",
       "      <td>2</td>\n",
       "    </tr>\n",
       "    <tr>\n",
       "      <th>1</th>\n",
       "      <td>2.20</td>\n",
       "      <td>24</td>\n",
       "      <td>22</td>\n",
       "      <td>46</td>\n",
       "      <td>10</td>\n",
       "      <td>24</td>\n",
       "      <td>28</td>\n",
       "      <td>18</td>\n",
       "      <td>22</td>\n",
       "      <td>-4</td>\n",
       "      <td>...</td>\n",
       "      <td>-0.346839</td>\n",
       "      <td>-0.159744</td>\n",
       "      <td>-0.947614</td>\n",
       "      <td>0.463540</td>\n",
       "      <td>0</td>\n",
       "      <td>-5.342174</td>\n",
       "      <td>-1.321355</td>\n",
       "      <td>0.181064</td>\n",
       "      <td>1.85</td>\n",
       "      <td>1</td>\n",
       "    </tr>\n",
       "    <tr>\n",
       "      <th>2</th>\n",
       "      <td>12.00</td>\n",
       "      <td>7</td>\n",
       "      <td>4</td>\n",
       "      <td>11</td>\n",
       "      <td>18</td>\n",
       "      <td>8</td>\n",
       "      <td>11</td>\n",
       "      <td>2</td>\n",
       "      <td>10</td>\n",
       "      <td>-3</td>\n",
       "      <td>...</td>\n",
       "      <td>-2.673934</td>\n",
       "      <td>-1.592303</td>\n",
       "      <td>0.525305</td>\n",
       "      <td>-0.467169</td>\n",
       "      <td>0</td>\n",
       "      <td>-6.566521</td>\n",
       "      <td>-4.176403</td>\n",
       "      <td>-0.040277</td>\n",
       "      <td>2.05</td>\n",
       "      <td>2</td>\n",
       "    </tr>\n",
       "    <tr>\n",
       "      <th>3</th>\n",
       "      <td>1.91</td>\n",
       "      <td>8</td>\n",
       "      <td>5</td>\n",
       "      <td>13</td>\n",
       "      <td>14</td>\n",
       "      <td>6</td>\n",
       "      <td>7</td>\n",
       "      <td>6</td>\n",
       "      <td>9</td>\n",
       "      <td>-1</td>\n",
       "      <td>...</td>\n",
       "      <td>0.616027</td>\n",
       "      <td>0.404945</td>\n",
       "      <td>-1.506923</td>\n",
       "      <td>0.741964</td>\n",
       "      <td>0</td>\n",
       "      <td>-2.438120</td>\n",
       "      <td>-0.787132</td>\n",
       "      <td>-0.012101</td>\n",
       "      <td>1.82</td>\n",
       "      <td>0</td>\n",
       "    </tr>\n",
       "    <tr>\n",
       "      <th>4</th>\n",
       "      <td>2.50</td>\n",
       "      <td>23</td>\n",
       "      <td>16</td>\n",
       "      <td>39</td>\n",
       "      <td>14</td>\n",
       "      <td>33</td>\n",
       "      <td>25</td>\n",
       "      <td>18</td>\n",
       "      <td>27</td>\n",
       "      <td>8</td>\n",
       "      <td>...</td>\n",
       "      <td>-1.057214</td>\n",
       "      <td>-1.159294</td>\n",
       "      <td>0.751012</td>\n",
       "      <td>-0.182052</td>\n",
       "      <td>0</td>\n",
       "      <td>-1.259728</td>\n",
       "      <td>0.059574</td>\n",
       "      <td>0.042613</td>\n",
       "      <td>1.99</td>\n",
       "      <td>2</td>\n",
       "    </tr>\n",
       "  </tbody>\n",
       "</table>\n",
       "<p>5 rows × 71 columns</p>\n",
       "</div>"
      ],
      "text/plain": [
       "    g1_1  g1_2  g1_3  g1_4  g1_5  g1_6  g1_7  g1_8  g1_9  g1_10  ...  \\\n",
       "0   4.50     1     3     4     5     1     1     4     6      0  ...   \n",
       "1   2.20    24    22    46    10    24    28    18    22     -4  ...   \n",
       "2  12.00     7     4    11    18     8    11     2    10     -3  ...   \n",
       "3   1.91     8     5    13    14     6     7     6     9     -1  ...   \n",
       "4   2.50    23    16    39    14    33    25    18    27      8  ...   \n",
       "\n",
       "       c_20      c_21      c_22      c_23  c_24      c_25      c_26      c_27  \\\n",
       "0 -0.383704 -0.065449  0.584000  0.488000     0 -3.232000 -1.944000 -0.007944   \n",
       "1 -0.346839 -0.159744 -0.947614  0.463540     0 -5.342174 -1.321355  0.181064   \n",
       "2 -2.673934 -1.592303  0.525305 -0.467169     0 -6.566521 -4.176403 -0.040277   \n",
       "3  0.616027  0.404945 -1.506923  0.741964     0 -2.438120 -0.787132 -0.012101   \n",
       "4 -1.057214 -1.159294  0.751012 -0.182052     0 -1.259728  0.059574  0.042613   \n",
       "\n",
       "   c_28  target  \n",
       "0  1.76       2  \n",
       "1  1.85       1  \n",
       "2  2.05       2  \n",
       "3  1.82       0  \n",
       "4  1.99       2  \n",
       "\n",
       "[5 rows x 71 columns]"
      ]
     },
     "execution_count": 4,
     "metadata": {},
     "output_type": "execute_result"
    }
   ],
   "source": [
    "df.head()"
   ]
  },
  {
   "cell_type": "code",
   "execution_count": 5,
   "metadata": {},
   "outputs": [
    {
     "name": "stdout",
     "output_type": "stream",
     "text": [
      "<class 'pandas.core.frame.DataFrame'>\n",
      "RangeIndex: 6620 entries, 0 to 6619\n",
      "Data columns (total 71 columns):\n",
      " #   Column  Non-Null Count  Dtype  \n",
      "---  ------  --------------  -----  \n",
      " 0   g1_1    6620 non-null   float64\n",
      " 1   g1_2    6620 non-null   int64  \n",
      " 2   g1_3    6620 non-null   int64  \n",
      " 3   g1_4    6620 non-null   int64  \n",
      " 4   g1_5    6620 non-null   int64  \n",
      " 5   g1_6    6620 non-null   int64  \n",
      " 6   g1_7    6620 non-null   int64  \n",
      " 7   g1_8    6620 non-null   int64  \n",
      " 8   g1_9    6620 non-null   int64  \n",
      " 9   g1_10   6620 non-null   int64  \n",
      " 10  g1_11   6620 non-null   int64  \n",
      " 11  g1_12   6620 non-null   int64  \n",
      " 12  g1_13   6620 non-null   float64\n",
      " 13  g1_14   6620 non-null   float64\n",
      " 14  g1_15   6620 non-null   float64\n",
      " 15  g1_16   6620 non-null   float64\n",
      " 16  g1_17   6620 non-null   float64\n",
      " 17  g1_18   6620 non-null   float64\n",
      " 18  g1_19   6620 non-null   float64\n",
      " 19  g1_20   6620 non-null   float64\n",
      " 20  g1_21   6620 non-null   float64\n",
      " 21  g2_1    6620 non-null   float64\n",
      " 22  g2_2    6620 non-null   int64  \n",
      " 23  g2_3    6620 non-null   int64  \n",
      " 24  g2_4    6620 non-null   int64  \n",
      " 25  g2_5    6620 non-null   int64  \n",
      " 26  g2_6    6620 non-null   int64  \n",
      " 27  g2_7    6620 non-null   int64  \n",
      " 28  g2_8    6620 non-null   int64  \n",
      " 29  g2_9    6620 non-null   int64  \n",
      " 30  g2_10   6620 non-null   int64  \n",
      " 31  g2_11   6620 non-null   int64  \n",
      " 32  g2_12   6620 non-null   int64  \n",
      " 33  g2_13   6620 non-null   float64\n",
      " 34  g2_14   6620 non-null   float64\n",
      " 35  g2_15   6620 non-null   float64\n",
      " 36  g2_16   6620 non-null   float64\n",
      " 37  g2_17   6620 non-null   float64\n",
      " 38  g2_18   6620 non-null   float64\n",
      " 39  g2_19   6620 non-null   float64\n",
      " 40  g2_20   6620 non-null   float64\n",
      " 41  g2_21   6620 non-null   float64\n",
      " 42  c_1     6620 non-null   float64\n",
      " 43  c_2     6620 non-null   int64  \n",
      " 44  c_3     6620 non-null   int64  \n",
      " 45  c_4     6620 non-null   int64  \n",
      " 46  c_5     6620 non-null   int64  \n",
      " 47  c_6     6620 non-null   int64  \n",
      " 48  c_7     6620 non-null   int64  \n",
      " 49  c_8     6620 non-null   int64  \n",
      " 50  c_9     6620 non-null   float64\n",
      " 51  c_10    6620 non-null   int64  \n",
      " 52  c_11    6620 non-null   int64  \n",
      " 53  c_12    6620 non-null   int64  \n",
      " 54  c_13    6620 non-null   int64  \n",
      " 55  c_14    6620 non-null   int64  \n",
      " 56  c_15    6620 non-null   int64  \n",
      " 57  c_16    6620 non-null   int64  \n",
      " 58  c_17    6620 non-null   int64  \n",
      " 59  c_18    6620 non-null   int64  \n",
      " 60  c_19    6620 non-null   int64  \n",
      " 61  c_20    6620 non-null   float64\n",
      " 62  c_21    6620 non-null   float64\n",
      " 63  c_22    6620 non-null   float64\n",
      " 64  c_23    6620 non-null   float64\n",
      " 65  c_24    6620 non-null   int64  \n",
      " 66  c_25    6620 non-null   float64\n",
      " 67  c_26    6620 non-null   float64\n",
      " 68  c_27    6620 non-null   float64\n",
      " 69  c_28    6620 non-null   float64\n",
      " 70  target  6620 non-null   int64  \n",
      "dtypes: float64(30), int64(41)\n",
      "memory usage: 3.6 MB\n"
     ]
    }
   ],
   "source": [
    "df.info()"
   ]
  },
  {
   "cell_type": "code",
   "execution_count": 6,
   "metadata": {},
   "outputs": [],
   "source": [
    "df['target'] = df['target'].astype('category')"
   ]
  },
  {
   "cell_type": "code",
   "execution_count": 7,
   "metadata": {},
   "outputs": [
    {
     "data": {
      "text/html": [
       "<div>\n",
       "<style scoped>\n",
       "    .dataframe tbody tr th:only-of-type {\n",
       "        vertical-align: middle;\n",
       "    }\n",
       "\n",
       "    .dataframe tbody tr th {\n",
       "        vertical-align: top;\n",
       "    }\n",
       "\n",
       "    .dataframe thead th {\n",
       "        text-align: right;\n",
       "    }\n",
       "</style>\n",
       "<table border=\"1\" class=\"dataframe\">\n",
       "  <thead>\n",
       "    <tr style=\"text-align: right;\">\n",
       "      <th></th>\n",
       "      <th>g1_1</th>\n",
       "      <th>g1_2</th>\n",
       "      <th>g1_3</th>\n",
       "      <th>g1_4</th>\n",
       "      <th>g1_5</th>\n",
       "      <th>g1_6</th>\n",
       "      <th>g1_7</th>\n",
       "      <th>g1_8</th>\n",
       "      <th>g1_9</th>\n",
       "      <th>g1_10</th>\n",
       "      <th>...</th>\n",
       "      <th>c_19</th>\n",
       "      <th>c_20</th>\n",
       "      <th>c_21</th>\n",
       "      <th>c_22</th>\n",
       "      <th>c_23</th>\n",
       "      <th>c_24</th>\n",
       "      <th>c_25</th>\n",
       "      <th>c_26</th>\n",
       "      <th>c_27</th>\n",
       "      <th>c_28</th>\n",
       "    </tr>\n",
       "  </thead>\n",
       "  <tbody>\n",
       "    <tr>\n",
       "      <th>count</th>\n",
       "      <td>6620.000000</td>\n",
       "      <td>6620.000000</td>\n",
       "      <td>6620.000000</td>\n",
       "      <td>6620.000000</td>\n",
       "      <td>6620.000000</td>\n",
       "      <td>6620.000000</td>\n",
       "      <td>6620.000000</td>\n",
       "      <td>6620.000000</td>\n",
       "      <td>6620.000000</td>\n",
       "      <td>6620.000000</td>\n",
       "      <td>...</td>\n",
       "      <td>6620.000000</td>\n",
       "      <td>6620.000000</td>\n",
       "      <td>6620.000000</td>\n",
       "      <td>6620.000000</td>\n",
       "      <td>6620.000000</td>\n",
       "      <td>6620.00000</td>\n",
       "      <td>6620.000000</td>\n",
       "      <td>6620.000000</td>\n",
       "      <td>6620.000000</td>\n",
       "      <td>6620.000000</td>\n",
       "    </tr>\n",
       "    <tr>\n",
       "      <th>mean</th>\n",
       "      <td>2.708779</td>\n",
       "      <td>14.424018</td>\n",
       "      <td>10.485650</td>\n",
       "      <td>24.909668</td>\n",
       "      <td>10.988066</td>\n",
       "      <td>13.412085</td>\n",
       "      <td>10.161027</td>\n",
       "      <td>10.745468</td>\n",
       "      <td>14.169033</td>\n",
       "      <td>3.251057</td>\n",
       "      <td>...</td>\n",
       "      <td>-0.332175</td>\n",
       "      <td>-0.029311</td>\n",
       "      <td>-0.006724</td>\n",
       "      <td>-0.004147</td>\n",
       "      <td>0.008827</td>\n",
       "      <td>0.00000</td>\n",
       "      <td>-0.228426</td>\n",
       "      <td>-0.103728</td>\n",
       "      <td>0.000408</td>\n",
       "      <td>1.917134</td>\n",
       "    </tr>\n",
       "    <tr>\n",
       "      <th>std</th>\n",
       "      <td>1.857725</td>\n",
       "      <td>10.700787</td>\n",
       "      <td>8.384203</td>\n",
       "      <td>18.174948</td>\n",
       "      <td>5.635985</td>\n",
       "      <td>10.090030</td>\n",
       "      <td>7.495039</td>\n",
       "      <td>7.964247</td>\n",
       "      <td>9.866734</td>\n",
       "      <td>8.481210</td>\n",
       "      <td>...</td>\n",
       "      <td>21.498095</td>\n",
       "      <td>1.220752</td>\n",
       "      <td>1.068199</td>\n",
       "      <td>0.663238</td>\n",
       "      <td>0.683422</td>\n",
       "      <td>0.32287</td>\n",
       "      <td>3.390902</td>\n",
       "      <td>1.944419</td>\n",
       "      <td>0.092761</td>\n",
       "      <td>0.302175</td>\n",
       "    </tr>\n",
       "    <tr>\n",
       "      <th>min</th>\n",
       "      <td>1.050000</td>\n",
       "      <td>0.000000</td>\n",
       "      <td>0.000000</td>\n",
       "      <td>0.000000</td>\n",
       "      <td>1.000000</td>\n",
       "      <td>0.000000</td>\n",
       "      <td>0.000000</td>\n",
       "      <td>0.000000</td>\n",
       "      <td>0.000000</td>\n",
       "      <td>-27.000000</td>\n",
       "      <td>...</td>\n",
       "      <td>-101.000000</td>\n",
       "      <td>-4.684111</td>\n",
       "      <td>-4.319826</td>\n",
       "      <td>-2.512919</td>\n",
       "      <td>-3.118836</td>\n",
       "      <td>-2.00000</td>\n",
       "      <td>-15.202740</td>\n",
       "      <td>-9.181722</td>\n",
       "      <td>-0.750000</td>\n",
       "      <td>0.000000</td>\n",
       "    </tr>\n",
       "    <tr>\n",
       "      <th>25%</th>\n",
       "      <td>1.667000</td>\n",
       "      <td>6.000000</td>\n",
       "      <td>4.000000</td>\n",
       "      <td>10.000000</td>\n",
       "      <td>6.000000</td>\n",
       "      <td>5.000000</td>\n",
       "      <td>4.000000</td>\n",
       "      <td>4.000000</td>\n",
       "      <td>6.000000</td>\n",
       "      <td>-2.000000</td>\n",
       "      <td>...</td>\n",
       "      <td>-10.000000</td>\n",
       "      <td>-0.716407</td>\n",
       "      <td>-0.531224</td>\n",
       "      <td>-0.440407</td>\n",
       "      <td>-0.406811</td>\n",
       "      <td>0.00000</td>\n",
       "      <td>-2.222226</td>\n",
       "      <td>-1.293471</td>\n",
       "      <td>-0.054331</td>\n",
       "      <td>1.710000</td>\n",
       "    </tr>\n",
       "    <tr>\n",
       "      <th>50%</th>\n",
       "      <td>2.150000</td>\n",
       "      <td>13.000000</td>\n",
       "      <td>9.000000</td>\n",
       "      <td>22.000000</td>\n",
       "      <td>11.000000</td>\n",
       "      <td>12.000000</td>\n",
       "      <td>9.000000</td>\n",
       "      <td>9.000000</td>\n",
       "      <td>13.000000</td>\n",
       "      <td>1.000000</td>\n",
       "      <td>...</td>\n",
       "      <td>0.000000</td>\n",
       "      <td>0.000000</td>\n",
       "      <td>0.000000</td>\n",
       "      <td>0.000000</td>\n",
       "      <td>0.001070</td>\n",
       "      <td>0.00000</td>\n",
       "      <td>-0.119378</td>\n",
       "      <td>-0.012487</td>\n",
       "      <td>0.000000</td>\n",
       "      <td>1.850000</td>\n",
       "    </tr>\n",
       "    <tr>\n",
       "      <th>75%</th>\n",
       "      <td>2.800000</td>\n",
       "      <td>21.000000</td>\n",
       "      <td>15.000000</td>\n",
       "      <td>36.000000</td>\n",
       "      <td>16.000000</td>\n",
       "      <td>20.000000</td>\n",
       "      <td>15.000000</td>\n",
       "      <td>16.000000</td>\n",
       "      <td>21.000000</td>\n",
       "      <td>7.000000</td>\n",
       "      <td>...</td>\n",
       "      <td>10.000000</td>\n",
       "      <td>0.654627</td>\n",
       "      <td>0.490504</td>\n",
       "      <td>0.410915</td>\n",
       "      <td>0.450104</td>\n",
       "      <td>0.00000</td>\n",
       "      <td>1.809334</td>\n",
       "      <td>1.035235</td>\n",
       "      <td>0.054825</td>\n",
       "      <td>2.020000</td>\n",
       "    </tr>\n",
       "    <tr>\n",
       "      <th>max</th>\n",
       "      <td>23.000000</td>\n",
       "      <td>52.000000</td>\n",
       "      <td>47.000000</td>\n",
       "      <td>94.000000</td>\n",
       "      <td>20.000000</td>\n",
       "      <td>61.000000</td>\n",
       "      <td>43.000000</td>\n",
       "      <td>48.000000</td>\n",
       "      <td>52.000000</td>\n",
       "      <td>48.000000</td>\n",
       "      <td>...</td>\n",
       "      <td>108.000000</td>\n",
       "      <td>4.821136</td>\n",
       "      <td>4.396281</td>\n",
       "      <td>2.987136</td>\n",
       "      <td>2.830550</td>\n",
       "      <td>2.00000</td>\n",
       "      <td>12.562698</td>\n",
       "      <td>8.209578</td>\n",
       "      <td>0.666667</td>\n",
       "      <td>4.330000</td>\n",
       "    </tr>\n",
       "  </tbody>\n",
       "</table>\n",
       "<p>8 rows × 70 columns</p>\n",
       "</div>"
      ],
      "text/plain": [
       "              g1_1         g1_2         g1_3         g1_4         g1_5  \\\n",
       "count  6620.000000  6620.000000  6620.000000  6620.000000  6620.000000   \n",
       "mean      2.708779    14.424018    10.485650    24.909668    10.988066   \n",
       "std       1.857725    10.700787     8.384203    18.174948     5.635985   \n",
       "min       1.050000     0.000000     0.000000     0.000000     1.000000   \n",
       "25%       1.667000     6.000000     4.000000    10.000000     6.000000   \n",
       "50%       2.150000    13.000000     9.000000    22.000000    11.000000   \n",
       "75%       2.800000    21.000000    15.000000    36.000000    16.000000   \n",
       "max      23.000000    52.000000    47.000000    94.000000    20.000000   \n",
       "\n",
       "              g1_6         g1_7         g1_8         g1_9        g1_10  ...  \\\n",
       "count  6620.000000  6620.000000  6620.000000  6620.000000  6620.000000  ...   \n",
       "mean     13.412085    10.161027    10.745468    14.169033     3.251057  ...   \n",
       "std      10.090030     7.495039     7.964247     9.866734     8.481210  ...   \n",
       "min       0.000000     0.000000     0.000000     0.000000   -27.000000  ...   \n",
       "25%       5.000000     4.000000     4.000000     6.000000    -2.000000  ...   \n",
       "50%      12.000000     9.000000     9.000000    13.000000     1.000000  ...   \n",
       "75%      20.000000    15.000000    16.000000    21.000000     7.000000  ...   \n",
       "max      61.000000    43.000000    48.000000    52.000000    48.000000  ...   \n",
       "\n",
       "              c_19         c_20         c_21         c_22         c_23  \\\n",
       "count  6620.000000  6620.000000  6620.000000  6620.000000  6620.000000   \n",
       "mean     -0.332175    -0.029311    -0.006724    -0.004147     0.008827   \n",
       "std      21.498095     1.220752     1.068199     0.663238     0.683422   \n",
       "min    -101.000000    -4.684111    -4.319826    -2.512919    -3.118836   \n",
       "25%     -10.000000    -0.716407    -0.531224    -0.440407    -0.406811   \n",
       "50%       0.000000     0.000000     0.000000     0.000000     0.001070   \n",
       "75%      10.000000     0.654627     0.490504     0.410915     0.450104   \n",
       "max     108.000000     4.821136     4.396281     2.987136     2.830550   \n",
       "\n",
       "             c_24         c_25         c_26         c_27         c_28  \n",
       "count  6620.00000  6620.000000  6620.000000  6620.000000  6620.000000  \n",
       "mean      0.00000    -0.228426    -0.103728     0.000408     1.917134  \n",
       "std       0.32287     3.390902     1.944419     0.092761     0.302175  \n",
       "min      -2.00000   -15.202740    -9.181722    -0.750000     0.000000  \n",
       "25%       0.00000    -2.222226    -1.293471    -0.054331     1.710000  \n",
       "50%       0.00000    -0.119378    -0.012487     0.000000     1.850000  \n",
       "75%       0.00000     1.809334     1.035235     0.054825     2.020000  \n",
       "max       2.00000    12.562698     8.209578     0.666667     4.330000  \n",
       "\n",
       "[8 rows x 70 columns]"
      ]
     },
     "execution_count": 7,
     "metadata": {},
     "output_type": "execute_result"
    }
   ],
   "source": [
    "df.describe()"
   ]
  },
  {
   "cell_type": "code",
   "execution_count": 8,
   "metadata": {},
   "outputs": [
    {
     "data": {
      "text/plain": [
       "array([[<AxesSubplot:title={'center':'g1_1'}>,\n",
       "        <AxesSubplot:title={'center':'g1_2'}>,\n",
       "        <AxesSubplot:title={'center':'g1_3'}>,\n",
       "        <AxesSubplot:title={'center':'g1_4'}>,\n",
       "        <AxesSubplot:title={'center':'g1_5'}>,\n",
       "        <AxesSubplot:title={'center':'g1_6'}>,\n",
       "        <AxesSubplot:title={'center':'g1_7'}>,\n",
       "        <AxesSubplot:title={'center':'g1_8'}>],\n",
       "       [<AxesSubplot:title={'center':'g1_9'}>,\n",
       "        <AxesSubplot:title={'center':'g1_10'}>,\n",
       "        <AxesSubplot:title={'center':'g1_11'}>,\n",
       "        <AxesSubplot:title={'center':'g1_12'}>,\n",
       "        <AxesSubplot:title={'center':'g1_13'}>,\n",
       "        <AxesSubplot:title={'center':'g1_14'}>,\n",
       "        <AxesSubplot:title={'center':'g1_15'}>,\n",
       "        <AxesSubplot:title={'center':'g1_16'}>],\n",
       "       [<AxesSubplot:title={'center':'g1_17'}>,\n",
       "        <AxesSubplot:title={'center':'g1_18'}>,\n",
       "        <AxesSubplot:title={'center':'g1_19'}>,\n",
       "        <AxesSubplot:title={'center':'g1_20'}>,\n",
       "        <AxesSubplot:title={'center':'g1_21'}>,\n",
       "        <AxesSubplot:title={'center':'g2_1'}>,\n",
       "        <AxesSubplot:title={'center':'g2_2'}>,\n",
       "        <AxesSubplot:title={'center':'g2_3'}>],\n",
       "       [<AxesSubplot:title={'center':'g2_4'}>,\n",
       "        <AxesSubplot:title={'center':'g2_5'}>,\n",
       "        <AxesSubplot:title={'center':'g2_6'}>,\n",
       "        <AxesSubplot:title={'center':'g2_7'}>,\n",
       "        <AxesSubplot:title={'center':'g2_8'}>,\n",
       "        <AxesSubplot:title={'center':'g2_9'}>,\n",
       "        <AxesSubplot:title={'center':'g2_10'}>,\n",
       "        <AxesSubplot:title={'center':'g2_11'}>],\n",
       "       [<AxesSubplot:title={'center':'g2_12'}>,\n",
       "        <AxesSubplot:title={'center':'g2_13'}>,\n",
       "        <AxesSubplot:title={'center':'g2_14'}>,\n",
       "        <AxesSubplot:title={'center':'g2_15'}>,\n",
       "        <AxesSubplot:title={'center':'g2_16'}>,\n",
       "        <AxesSubplot:title={'center':'g2_17'}>,\n",
       "        <AxesSubplot:title={'center':'g2_18'}>,\n",
       "        <AxesSubplot:title={'center':'g2_19'}>],\n",
       "       [<AxesSubplot:title={'center':'g2_20'}>,\n",
       "        <AxesSubplot:title={'center':'g2_21'}>,\n",
       "        <AxesSubplot:title={'center':'c_1'}>,\n",
       "        <AxesSubplot:title={'center':'c_2'}>,\n",
       "        <AxesSubplot:title={'center':'c_3'}>,\n",
       "        <AxesSubplot:title={'center':'c_4'}>,\n",
       "        <AxesSubplot:title={'center':'c_5'}>,\n",
       "        <AxesSubplot:title={'center':'c_6'}>],\n",
       "       [<AxesSubplot:title={'center':'c_7'}>,\n",
       "        <AxesSubplot:title={'center':'c_8'}>,\n",
       "        <AxesSubplot:title={'center':'c_9'}>,\n",
       "        <AxesSubplot:title={'center':'c_10'}>,\n",
       "        <AxesSubplot:title={'center':'c_11'}>,\n",
       "        <AxesSubplot:title={'center':'c_12'}>,\n",
       "        <AxesSubplot:title={'center':'c_13'}>,\n",
       "        <AxesSubplot:title={'center':'c_14'}>],\n",
       "       [<AxesSubplot:title={'center':'c_15'}>,\n",
       "        <AxesSubplot:title={'center':'c_16'}>,\n",
       "        <AxesSubplot:title={'center':'c_17'}>,\n",
       "        <AxesSubplot:title={'center':'c_18'}>,\n",
       "        <AxesSubplot:title={'center':'c_19'}>,\n",
       "        <AxesSubplot:title={'center':'c_20'}>,\n",
       "        <AxesSubplot:title={'center':'c_21'}>,\n",
       "        <AxesSubplot:title={'center':'c_22'}>],\n",
       "       [<AxesSubplot:title={'center':'c_23'}>,\n",
       "        <AxesSubplot:title={'center':'c_24'}>,\n",
       "        <AxesSubplot:title={'center':'c_25'}>,\n",
       "        <AxesSubplot:title={'center':'c_26'}>,\n",
       "        <AxesSubplot:title={'center':'c_27'}>,\n",
       "        <AxesSubplot:title={'center':'c_28'}>, <AxesSubplot:>,\n",
       "        <AxesSubplot:>]], dtype=object)"
      ]
     },
     "execution_count": 8,
     "metadata": {},
     "output_type": "execute_result"
    },
    {
     "data": {
      "image/png": "[encoded data removed]",
      "text/plain": [
       "<Figure size 1152x1152 with 72 Axes>"
      ]
     },
     "metadata": {
      "needs_background": "light"
     },
     "output_type": "display_data"
    }
   ],
   "source": [
    "df.hist(figsize=(16,16))"
   ]
  },
  {
   "cell_type": "markdown",
   "metadata": {},
   "source": [
    "As we can see histograms looks pretty good. We can see some outliers in g1_1, g2_9, c_6, g2_21, c_1 columns. In this approach, I will assume that they are a natural part of the population, since I don't really know the meaning of the features."
   ]
  },
  {
   "cell_type": "markdown",
   "metadata": {},
   "source": [
    "<h2> What percentage of campaigns led to group 1 being the most profitable? What about group 2?\n",
    "And neither of the groups? </h2>"
   ]
  },
  {
   "cell_type": "code",
   "execution_count": 9,
   "metadata": {},
   "outputs": [
    {
     "name": "stdout",
     "output_type": "stream",
     "text": [
      "1    3076\n",
      "2    1877\n",
      "0    1667\n",
      "Name: target, dtype: int64\n"
     ]
    },
    {
     "data": {
      "text/plain": [
       "6620"
      ]
     },
     "execution_count": 9,
     "metadata": {},
     "output_type": "execute_result"
    }
   ],
   "source": [
    "print(df['target'].value_counts())\n",
    "\n",
    "np.sum(df['target'].value_counts())"
   ]
  },
  {
   "cell_type": "code",
   "execution_count": 10,
   "metadata": {},
   "outputs": [],
   "source": [
    "df_mostprofitable = pd.DataFrame.from_dict({'group 1': 3076/6620, 'group 2': 1877 / 6620, 'neither': 1667 / 6620}, orient='index', columns=['percentage'])"
   ]
  },
  {
   "cell_type": "code",
   "execution_count": 11,
   "metadata": {},
   "outputs": [
    {
     "data": {
      "text/html": [
       "<div>\n",
       "<style scoped>\n",
       "    .dataframe tbody tr th:only-of-type {\n",
       "        vertical-align: middle;\n",
       "    }\n",
       "\n",
       "    .dataframe tbody tr th {\n",
       "        vertical-align: top;\n",
       "    }\n",
       "\n",
       "    .dataframe thead th {\n",
       "        text-align: right;\n",
       "    }\n",
       "</style>\n",
       "<table border=\"1\" class=\"dataframe\">\n",
       "  <thead>\n",
       "    <tr style=\"text-align: right;\">\n",
       "      <th></th>\n",
       "      <th>percentage</th>\n",
       "    </tr>\n",
       "  </thead>\n",
       "  <tbody>\n",
       "    <tr>\n",
       "      <th>group 1</th>\n",
       "      <td>0.464653</td>\n",
       "    </tr>\n",
       "    <tr>\n",
       "      <th>group 2</th>\n",
       "      <td>0.283535</td>\n",
       "    </tr>\n",
       "    <tr>\n",
       "      <th>neither</th>\n",
       "      <td>0.251813</td>\n",
       "    </tr>\n",
       "  </tbody>\n",
       "</table>\n",
       "</div>"
      ],
      "text/plain": [
       "         percentage\n",
       "group 1    0.464653\n",
       "group 2    0.283535\n",
       "neither    0.251813"
      ]
     },
     "execution_count": 11,
     "metadata": {},
     "output_type": "execute_result"
    }
   ],
   "source": [
    "df_mostprofitable"
   ]
  },
  {
   "cell_type": "code",
   "execution_count": 12,
   "metadata": {},
   "outputs": [
    {
     "data": {
      "image/png": "[encoded data removed]",
      "text/plain": [
       "<Figure size 576x504 with 1 Axes>"
      ]
     },
     "metadata": {
      "needs_background": "light"
     },
     "output_type": "display_data"
    }
   ],
   "source": [
    "f, ax = plt.subplots(figsize=(8, 7))\n",
    "\n",
    "ax = sns.barplot(x=df_mostprofitable.index, y=df_mostprofitable['percentage'].round(2), palette = ['tab:orange', 'tab:grey', 'tab:grey'],\n",
    "                 errwidth=0)\n",
    "\n",
    "ax.set(title='Percentage of most profitable campaigns across the groups')\n",
    "ax.bar_label(ax.containers[0])\n",
    "\n",
    "plt.show()"
   ]
  },
  {
   "cell_type": "markdown",
   "metadata": {},
   "source": [
    "As we can see 46% of campaigns that led to group 1 are the most profitable, 28% that led to group 2, and 25% for which none of the groups are profitable."
   ]
  },
  {
   "cell_type": "markdown",
   "metadata": {},
   "source": [
    "<h2> Based on all the information you have, can you build a model to optimize future campaigns?\n",
    "Given the characteristics of two different groups of customers, please predict which group to\n",
    "target. </h2>"
   ]
  },
  {
   "cell_type": "markdown",
   "metadata": {},
   "source": [
    "<h3> Prepare dataset </h3>"
   ]
  },
  {
   "cell_type": "code",
   "execution_count": 13,
   "metadata": {},
   "outputs": [],
   "source": [
    "df_grouped = df.loc[df['target'] != 0]"
   ]
  },
  {
   "cell_type": "code",
   "execution_count": 14,
   "metadata": {},
   "outputs": [],
   "source": [
    "X_ =  df_grouped.to_numpy()\n",
    "X, y = X_[:, :-1], X_[:, -1]"
   ]
  },
  {
   "cell_type": "code",
   "execution_count": 15,
   "metadata": {},
   "outputs": [],
   "source": [
    "X_train, X_test, y_train, y_test = train_test_split(X, y, test_size=0.2, random_state=42)"
   ]
  },
  {
   "cell_type": "code",
   "execution_count": 16,
   "metadata": {},
   "outputs": [],
   "source": [
    "scaler = StandardScaler()"
   ]
  },
  {
   "cell_type": "code",
   "execution_count": 17,
   "metadata": {},
   "outputs": [],
   "source": [
    "X_train = scaler.fit_transform(X_train)\n",
    "X_test = scaler.transform(X_test)"
   ]
  },
  {
   "cell_type": "markdown",
   "metadata": {},
   "source": [
    "<h3> Models </h3>\n",
    "\n",
    "We can look at [1] to choose a proper estimator. Since dataset is small, we can try to tune more models than usual.\n",
    "Let's try with Linear SVC first."
   ]
  },
  {
   "cell_type": "markdown",
   "metadata": {},
   "source": [
    "<p>Linear SVC </p>"
   ]
  },
  {
   "cell_type": "markdown",
   "metadata": {},
   "source": [
    "Note: [2] LinearSVC, algorithm takes longer as usual if we require a very high precision, which is controlled\n",
    "by tolerance hyperparameter tol. In most cases the default tolerance is fine.\n",
    "\n",
    "Note: [2] It’s recommended to use LinearSVC(C=1, loss=\"hinge\"). Make sure to set loss to hinge.\n",
    "For better performance set dual to False, unless there are more features than training\n",
    "instances.\n",
    "\n",
    "I will also use some tips from [3].\n",
    "\n",
    "Our scoring metric will be AUC ROC, since it's one of the good choices for imbalanced datasets."
   ]
  },
  {
   "cell_type": "markdown",
   "metadata": {},
   "source": [
    "<p>_Tuning 1 </p>"
   ]
  },
  {
   "cell_type": "code",
   "execution_count": 217,
   "metadata": {},
   "outputs": [],
   "source": [
    "clf = LinearSVC(class_weight='balanced', max_iter=500000, random_state=42)"
   ]
  },
  {
   "cell_type": "code",
   "execution_count": 218,
   "metadata": {},
   "outputs": [],
   "source": [
    "param_grid = [{'C': [0.001, 0.003, 0.01, 0.3, 1], 'penalty': ['l1'], 'loss': ['squared_hinge'], 'dual': [False]},\n",
    "              {'C': [0.001, 0.003, 0.01, 0.3, 1], 'penalty': ['l2'], 'loss': ['hinge'], 'dual': [True]}]"
   ]
  },
  {
   "cell_type": "code",
   "execution_count": 219,
   "metadata": {},
   "outputs": [
    {
     "name": "stdout",
     "output_type": "stream",
     "text": [
      "0.8346810978988328\n",
      "array([0.83003926, 0.83332519, 0.8346811 , 0.8301191 , 0.82935557,\n",
      "       0.82397549, 0.82911182, 0.82974017, 0.82688237, 0.82671213])\n",
      "[{'C': 0.001, 'dual': False, 'loss': 'squared_hinge', 'penalty': 'l1'},\n",
      " {'C': 0.003, 'dual': False, 'loss': 'squared_hinge', 'penalty': 'l1'},\n",
      " {'C': 0.01, 'dual': False, 'loss': 'squared_hinge', 'penalty': 'l1'},\n",
      " {'C': 0.3, 'dual': False, 'loss': 'squared_hinge', 'penalty': 'l1'},\n",
      " {'C': 1, 'dual': False, 'loss': 'squared_hinge', 'penalty': 'l1'},\n",
      " {'C': 0.001, 'dual': True, 'loss': 'hinge', 'penalty': 'l2'},\n",
      " {'C': 0.003, 'dual': True, 'loss': 'hinge', 'penalty': 'l2'},\n",
      " {'C': 0.01, 'dual': True, 'loss': 'hinge', 'penalty': 'l2'},\n",
      " {'C': 0.3, 'dual': True, 'loss': 'hinge', 'penalty': 'l2'},\n",
      " {'C': 1, 'dual': True, 'loss': 'hinge', 'penalty': 'l2'}]\n"
     ]
    }
   ],
   "source": [
    "search = GridSearchCV(clf, param_grid=param_grid, cv=5, n_jobs=1, scoring='roc_auc')\n",
    "search.fit(X_train, y_train)\n",
    "print(search.best_score_)\n",
    "pprint(search.cv_results_['mean_test_score'])\n",
    "pprint(search.cv_results_['params'])"
   ]
  },
  {
   "cell_type": "code",
   "execution_count": 220,
   "metadata": {},
   "outputs": [
    {
     "name": "stdout",
     "output_type": "stream",
     "text": [
      "{'C': 0.01, 'dual': False, 'loss': 'squared_hinge', 'penalty': 'l1'}\n"
     ]
    }
   ],
   "source": [
    "print(search.best_params_)"
   ]
  },
  {
   "cell_type": "markdown",
   "metadata": {},
   "source": [
    "</p>_Tuning 2</p>"
   ]
  },
  {
   "cell_type": "code",
   "execution_count": 221,
   "metadata": {},
   "outputs": [],
   "source": [
    "param_grid = [{'C': uniform(0.003, 0.027), 'penalty': ['l1'], 'loss': ['squared_hinge'], 'dual': [False]}]"
   ]
  },
  {
   "cell_type": "code",
   "execution_count": 222,
   "metadata": {},
   "outputs": [
    {
     "name": "stdout",
     "output_type": "stream",
     "text": [
      "0.8347663219533319\n",
      "array([0.83449697, 0.83457562, 0.8333602 , 0.83339823, 0.83322209,\n",
      "       0.83283073, 0.83476632, 0.83356405, 0.83380099, 0.83403286])\n",
      "[{'C': 0.005218854257417124,\n",
      "  'dual': False,\n",
      "  'loss': 'squared_hinge',\n",
      "  'penalty': 'l1'},\n",
      " {'C': 0.011866571978731925,\n",
      "  'dual': False,\n",
      "  'loss': 'squared_hinge',\n",
      "  'penalty': 'l1'},\n",
      " {'C': 0.02032964255330196,\n",
      "  'dual': False,\n",
      "  'loss': 'squared_hinge',\n",
      "  'penalty': 'l1'},\n",
      " {'C': 0.019559605770868013,\n",
      "  'dual': False,\n",
      "  'loss': 'squared_hinge',\n",
      "  'penalty': 'l1'},\n",
      " {'C': 0.021568123761405655,\n",
      "  'dual': False,\n",
      "  'loss': 'squared_hinge',\n",
      "  'penalty': 'l1'},\n",
      " {'C': 0.028216308163995285,\n",
      "  'dual': False,\n",
      "  'loss': 'squared_hinge',\n",
      "  'penalty': 'l1'},\n",
      " {'C': 0.008571971195077212,\n",
      "  'dual': False,\n",
      "  'loss': 'squared_hinge',\n",
      "  'penalty': 'l1'},\n",
      " {'C': 0.0034564923490128133,\n",
      "  'dual': False,\n",
      "  'loss': 'squared_hinge',\n",
      "  'penalty': 'l1'},\n",
      " {'C': 0.0036306346439824474,\n",
      "  'dual': False,\n",
      "  'loss': 'squared_hinge',\n",
      "  'penalty': 'l1'},\n",
      " {'C': 0.015929075872088673,\n",
      "  'dual': False,\n",
      "  'loss': 'squared_hinge',\n",
      "  'penalty': 'l1'}]\n"
     ]
    }
   ],
   "source": [
    "search = RandomizedSearchCV(clf, param_distributions=param_grid, cv=5, n_jobs=1, scoring='roc_auc')\n",
    "search.fit(X_train, y_train)\n",
    "print(search.best_score_)\n",
    "pprint(search.cv_results_['mean_test_score'])\n",
    "pprint(search.cv_results_['params'])"
   ]
  },
  {
   "cell_type": "code",
   "execution_count": 223,
   "metadata": {},
   "outputs": [
    {
     "name": "stdout",
     "output_type": "stream",
     "text": [
      "{'C': 0.008571971195077212, 'dual': False, 'loss': 'squared_hinge', 'penalty': 'l1'}\n"
     ]
    }
   ],
   "source": [
    "print(search.best_params_)"
   ]
  },
  {
   "cell_type": "markdown",
   "metadata": {},
   "source": [
    "It looks like further tuning doesn't make sense. We received an imperceptibly better model and there is no sensible hyperparameter spaces to check through."
   ]
  },
  {
   "cell_type": "markdown",
   "metadata": {},
   "source": [
    "<p> _Tuned model </p>"
   ]
  },
  {
   "cell_type": "code",
   "execution_count": 18,
   "metadata": {},
   "outputs": [],
   "source": [
    "LinearSVC_clf = LinearSVC(class_weight='balanced', C=0.008, penalty='l1', loss='squared_hinge', dual=False, max_iter=500000, random_state=42)"
   ]
  },
  {
   "cell_type": "code",
   "execution_count": 56,
   "metadata": {},
   "outputs": [
    {
     "data": {
      "text/plain": [
       "LinearSVC(C=0.008, class_weight='balanced', dual=False, max_iter=500000,\n",
       "          penalty='l1', random_state=42)"
      ]
     },
     "execution_count": 56,
     "metadata": {},
     "output_type": "execute_result"
    }
   ],
   "source": [
    "LinearSVC_clf.fit(X_train, y_train)"
   ]
  },
  {
   "cell_type": "code",
   "execution_count": 57,
   "metadata": {},
   "outputs": [
    {
     "data": {
      "text/plain": [
       "((991, 70), (991,))"
      ]
     },
     "execution_count": 57,
     "metadata": {},
     "output_type": "execute_result"
    }
   ],
   "source": [
    "X_test.shape, y_test.shape"
   ]
  },
  {
   "cell_type": "code",
   "execution_count": 58,
   "metadata": {},
   "outputs": [
    {
     "name": "stdout",
     "output_type": "stream",
     "text": [
      "0.8382866908179033\n"
     ]
    },
    {
     "data": {
      "text/plain": [
       "0.832911535028038"
      ]
     },
     "execution_count": 58,
     "metadata": {},
     "output_type": "execute_result"
    }
   ],
   "source": [
    "print(roc_auc_score(y_train-1, LinearSVC_clf._predict_proba_lr(X_train)[:, 1]))\n",
    "roc_auc_score(y_test-1, LinearSVC_clf._predict_proba_lr(X_test)[:, 1])"
   ]
  },
  {
   "cell_type": "code",
   "execution_count": 59,
   "metadata": {},
   "outputs": [
    {
     "data": {
      "text/html": [
       "<div>\n",
       "<style scoped>\n",
       "    .dataframe tbody tr th:only-of-type {\n",
       "        vertical-align: middle;\n",
       "    }\n",
       "\n",
       "    .dataframe tbody tr th {\n",
       "        vertical-align: top;\n",
       "    }\n",
       "\n",
       "    .dataframe thead th {\n",
       "        text-align: right;\n",
       "    }\n",
       "</style>\n",
       "<table border=\"1\" class=\"dataframe\">\n",
       "  <thead>\n",
       "    <tr style=\"text-align: right;\">\n",
       "      <th></th>\n",
       "      <th>ROC_AUC train</th>\n",
       "      <th>ROC_AUC val</th>\n",
       "      <th>ROC_AUC test</th>\n",
       "    </tr>\n",
       "  </thead>\n",
       "  <tbody>\n",
       "    <tr>\n",
       "      <th>LinearSVC</th>\n",
       "      <td>0.84</td>\n",
       "      <td>0.83</td>\n",
       "      <td>0.83</td>\n",
       "    </tr>\n",
       "  </tbody>\n",
       "</table>\n",
       "</div>"
      ],
      "text/plain": [
       "           ROC_AUC train  ROC_AUC val  ROC_AUC test\n",
       "LinearSVC           0.84         0.83          0.83"
      ]
     },
     "execution_count": 59,
     "metadata": {},
     "output_type": "execute_result"
    }
   ],
   "source": [
    "data_LinearSVC = {'ROC_AUC train': [0.84], 'ROC_AUC val': [0.83], 'ROC_AUC test': [0.83]}\n",
    "data_LinearSVC = pd.DataFrame(data_LinearSVC, index=['LinearSVC'])\n",
    "data_LinearSVC"
   ]
  },
  {
   "cell_type": "markdown",
   "metadata": {},
   "source": [
    "This is quite a good result, and there is no overfitting or underfitting."
   ]
  },
  {
   "cell_type": "markdown",
   "metadata": {},
   "source": [
    "However, let's try a different model."
   ]
  },
  {
   "cell_type": "markdown",
   "metadata": {},
   "source": [
    "<p> KNeighborsClassifier </p>"
   ]
  },
  {
   "cell_type": "code",
   "execution_count": 257,
   "metadata": {},
   "outputs": [],
   "source": [
    "clf = KNeighborsClassifier()"
   ]
  },
  {
   "cell_type": "markdown",
   "metadata": {},
   "source": [
    "<p> _Tuning 1 </p>"
   ]
  },
  {
   "cell_type": "code",
   "execution_count": 260,
   "metadata": {},
   "outputs": [],
   "source": [
    "param_grid = {'n_neighbors': [3, 4, 5, 6, 7, 8], 'weights': ['uniform', 'distance', None], 'p': [1,2]}"
   ]
  },
  {
   "cell_type": "code",
   "execution_count": 261,
   "metadata": {},
   "outputs": [
    {
     "name": "stdout",
     "output_type": "stream",
     "text": [
      "0.7623877666438024\n",
      "array([0.70810258, 0.70891101, 0.70810258, 0.7104262 , 0.71039692,\n",
      "       0.7104262 , 0.72226215, 0.72304319, 0.72226215, 0.72595661,\n",
      "       0.72712956, 0.72595661, 0.73199624, 0.73425133, 0.73199624,\n",
      "       0.73727425, 0.73848227, 0.73727425, 0.74513016, 0.74545488,\n",
      "       0.74513016, 0.74604595, 0.74753847, 0.74604595, 0.75021913,\n",
      "       0.75084158, 0.75021913, 0.75579145, 0.75671187, 0.75579145,\n",
      "       0.75577081, 0.75666442, 0.75577081, 0.7618238 , 0.76238777,\n",
      "       0.7618238 ])\n",
      "[{'n_neighbors': 3, 'p': 1, 'weights': 'uniform'},\n",
      " {'n_neighbors': 3, 'p': 1, 'weights': 'distance'},\n",
      " {'n_neighbors': 3, 'p': 1, 'weights': None},\n",
      " {'n_neighbors': 3, 'p': 2, 'weights': 'uniform'},\n",
      " {'n_neighbors': 3, 'p': 2, 'weights': 'distance'},\n",
      " {'n_neighbors': 3, 'p': 2, 'weights': None},\n",
      " {'n_neighbors': 4, 'p': 1, 'weights': 'uniform'},\n",
      " {'n_neighbors': 4, 'p': 1, 'weights': 'distance'},\n",
      " {'n_neighbors': 4, 'p': 1, 'weights': None},\n",
      " {'n_neighbors': 4, 'p': 2, 'weights': 'uniform'},\n",
      " {'n_neighbors': 4, 'p': 2, 'weights': 'distance'},\n",
      " {'n_neighbors': 4, 'p': 2, 'weights': None},\n",
      " {'n_neighbors': 5, 'p': 1, 'weights': 'uniform'},\n",
      " {'n_neighbors': 5, 'p': 1, 'weights': 'distance'},\n",
      " {'n_neighbors': 5, 'p': 1, 'weights': None},\n",
      " {'n_neighbors': 5, 'p': 2, 'weights': 'uniform'},\n",
      " {'n_neighbors': 5, 'p': 2, 'weights': 'distance'},\n",
      " {'n_neighbors': 5, 'p': 2, 'weights': None},\n",
      " {'n_neighbors': 6, 'p': 1, 'weights': 'uniform'},\n",
      " {'n_neighbors': 6, 'p': 1, 'weights': 'distance'},\n",
      " {'n_neighbors': 6, 'p': 1, 'weights': None},\n",
      " {'n_neighbors': 6, 'p': 2, 'weights': 'uniform'},\n",
      " {'n_neighbors': 6, 'p': 2, 'weights': 'distance'},\n",
      " {'n_neighbors': 6, 'p': 2, 'weights': None},\n",
      " {'n_neighbors': 7, 'p': 1, 'weights': 'uniform'},\n",
      " {'n_neighbors': 7, 'p': 1, 'weights': 'distance'},\n",
      " {'n_neighbors': 7, 'p': 1, 'weights': None},\n",
      " {'n_neighbors': 7, 'p': 2, 'weights': 'uniform'},\n",
      " {'n_neighbors': 7, 'p': 2, 'weights': 'distance'},\n",
      " {'n_neighbors': 7, 'p': 2, 'weights': None},\n",
      " {'n_neighbors': 8, 'p': 1, 'weights': 'uniform'},\n",
      " {'n_neighbors': 8, 'p': 1, 'weights': 'distance'},\n",
      " {'n_neighbors': 8, 'p': 1, 'weights': None},\n",
      " {'n_neighbors': 8, 'p': 2, 'weights': 'uniform'},\n",
      " {'n_neighbors': 8, 'p': 2, 'weights': 'distance'},\n",
      " {'n_neighbors': 8, 'p': 2, 'weights': None}]\n"
     ]
    }
   ],
   "source": [
    "search = GridSearchCV(clf, param_grid=param_grid, cv=5, n_jobs=1, scoring='roc_auc')\n",
    "search.fit(X_train, y_train)\n",
    "print(search.best_score_)\n",
    "pprint(search.cv_results_['mean_test_score'])\n",
    "pprint(search.cv_results_['params'])"
   ]
  },
  {
   "cell_type": "code",
   "execution_count": 262,
   "metadata": {},
   "outputs": [
    {
     "name": "stdout",
     "output_type": "stream",
     "text": [
      "{'n_neighbors': 8, 'p': 2, 'weights': 'distance'}\n"
     ]
    }
   ],
   "source": [
    "print(search.best_params_)"
   ]
  },
  {
   "cell_type": "markdown",
   "metadata": {},
   "source": [
    "<p> _Tuning 2 </p>"
   ]
  },
  {
   "cell_type": "code",
   "execution_count": 263,
   "metadata": {},
   "outputs": [],
   "source": [
    "param_grid = {'n_neighbors': [8, 9, 10, 11, 12, 13], 'weights': ['uniform', 'distance', None], 'p': [2]}"
   ]
  },
  {
   "cell_type": "code",
   "execution_count": 264,
   "metadata": {},
   "outputs": [
    {
     "name": "stdout",
     "output_type": "stream",
     "text": [
      "0.7770419386554429\n",
      "array([0.7618238 , 0.76238777, 0.7618238 , 0.76564943, 0.7661636 ,\n",
      "       0.76564943, 0.76700064, 0.76799261, 0.76700064, 0.77180656,\n",
      "       0.77199151, 0.77180656, 0.7741557 , 0.77466996, 0.7741557 ,\n",
      "       0.7765279 , 0.77704194, 0.7765279 ])\n",
      "[{'n_neighbors': 8, 'p': 2, 'weights': 'uniform'},\n",
      " {'n_neighbors': 8, 'p': 2, 'weights': 'distance'},\n",
      " {'n_neighbors': 8, 'p': 2, 'weights': None},\n",
      " {'n_neighbors': 9, 'p': 2, 'weights': 'uniform'},\n",
      " {'n_neighbors': 9, 'p': 2, 'weights': 'distance'},\n",
      " {'n_neighbors': 9, 'p': 2, 'weights': None},\n",
      " {'n_neighbors': 10, 'p': 2, 'weights': 'uniform'},\n",
      " {'n_neighbors': 10, 'p': 2, 'weights': 'distance'},\n",
      " {'n_neighbors': 10, 'p': 2, 'weights': None},\n",
      " {'n_neighbors': 11, 'p': 2, 'weights': 'uniform'},\n",
      " {'n_neighbors': 11, 'p': 2, 'weights': 'distance'},\n",
      " {'n_neighbors': 11, 'p': 2, 'weights': None},\n",
      " {'n_neighbors': 12, 'p': 2, 'weights': 'uniform'},\n",
      " {'n_neighbors': 12, 'p': 2, 'weights': 'distance'},\n",
      " {'n_neighbors': 12, 'p': 2, 'weights': None},\n",
      " {'n_neighbors': 13, 'p': 2, 'weights': 'uniform'},\n",
      " {'n_neighbors': 13, 'p': 2, 'weights': 'distance'},\n",
      " {'n_neighbors': 13, 'p': 2, 'weights': None}]\n"
     ]
    }
   ],
   "source": [
    "search = GridSearchCV(clf, param_grid=param_grid, cv=5, n_jobs=1, scoring='roc_auc')\n",
    "search.fit(X_train, y_train)\n",
    "print(search.best_score_)\n",
    "pprint(search.cv_results_['mean_test_score'])\n",
    "pprint(search.cv_results_['params'])"
   ]
  },
  {
   "cell_type": "code",
   "execution_count": 265,
   "metadata": {},
   "outputs": [
    {
     "name": "stdout",
     "output_type": "stream",
     "text": [
      "{'n_neighbors': 13, 'p': 2, 'weights': 'distance'}\n"
     ]
    }
   ],
   "source": [
    "print(search.best_params_)"
   ]
  },
  {
   "cell_type": "markdown",
   "metadata": {},
   "source": [
    "<p> _Tuning 3 </p>"
   ]
  },
  {
   "cell_type": "code",
   "execution_count": 267,
   "metadata": {},
   "outputs": [],
   "source": [
    "param_grid = {'n_neighbors': [15, 20, 25, 30, 35], 'weights': ['uniform', 'distance', None], 'p': [2]}"
   ]
  },
  {
   "cell_type": "code",
   "execution_count": 268,
   "metadata": {},
   "outputs": [
    {
     "name": "stdout",
     "output_type": "stream",
     "text": [
      "0.7896865813115675\n",
      "array([0.77992683, 0.78034551, 0.77992683, 0.78631599, 0.78700448,\n",
      "       0.78631599, 0.78712059, 0.78822088, 0.78712059, 0.78766869,\n",
      "       0.78876696, 0.78766869, 0.7886251 , 0.78968658, 0.7886251 ])\n",
      "[{'n_neighbors': 15, 'p': 2, 'weights': 'uniform'},\n",
      " {'n_neighbors': 15, 'p': 2, 'weights': 'distance'},\n",
      " {'n_neighbors': 15, 'p': 2, 'weights': None},\n",
      " {'n_neighbors': 20, 'p': 2, 'weights': 'uniform'},\n",
      " {'n_neighbors': 20, 'p': 2, 'weights': 'distance'},\n",
      " {'n_neighbors': 20, 'p': 2, 'weights': None},\n",
      " {'n_neighbors': 25, 'p': 2, 'weights': 'uniform'},\n",
      " {'n_neighbors': 25, 'p': 2, 'weights': 'distance'},\n",
      " {'n_neighbors': 25, 'p': 2, 'weights': None},\n",
      " {'n_neighbors': 30, 'p': 2, 'weights': 'uniform'},\n",
      " {'n_neighbors': 30, 'p': 2, 'weights': 'distance'},\n",
      " {'n_neighbors': 30, 'p': 2, 'weights': None},\n",
      " {'n_neighbors': 35, 'p': 2, 'weights': 'uniform'},\n",
      " {'n_neighbors': 35, 'p': 2, 'weights': 'distance'},\n",
      " {'n_neighbors': 35, 'p': 2, 'weights': None}]\n"
     ]
    }
   ],
   "source": [
    "search = GridSearchCV(clf, param_grid=param_grid, cv=5, n_jobs=1, scoring='roc_auc')\n",
    "search.fit(X_train, y_train)\n",
    "print(search.best_score_)\n",
    "pprint(search.cv_results_['mean_test_score'])\n",
    "pprint(search.cv_results_['params'])"
   ]
  },
  {
   "cell_type": "code",
   "execution_count": 269,
   "metadata": {},
   "outputs": [
    {
     "name": "stdout",
     "output_type": "stream",
     "text": [
      "{'n_neighbors': 35, 'p': 2, 'weights': 'distance'}\n"
     ]
    }
   ],
   "source": [
    "print(search.best_params_)"
   ]
  },
  {
   "cell_type": "markdown",
   "metadata": {},
   "source": [
    "<p> _Tuning 4 </p>"
   ]
  },
  {
   "cell_type": "code",
   "execution_count": 270,
   "metadata": {},
   "outputs": [],
   "source": [
    "param_grid = {'n_neighbors': [50, 100, 150, 200], 'weights': ['uniform', 'distance', None], 'p': [2]}"
   ]
  },
  {
   "cell_type": "code",
   "execution_count": 271,
   "metadata": {},
   "outputs": [
    {
     "name": "stdout",
     "output_type": "stream",
     "text": [
      "0.7948206845292534\n",
      "array([0.79140318, 0.79250834, 0.79140318, 0.79349564, 0.79479697,\n",
      "       0.79349564, 0.79313666, 0.79467406, 0.79313666, 0.79344997,\n",
      "       0.79482068, 0.79344997])\n",
      "[{'n_neighbors': 50, 'p': 2, 'weights': 'uniform'},\n",
      " {'n_neighbors': 50, 'p': 2, 'weights': 'distance'},\n",
      " {'n_neighbors': 50, 'p': 2, 'weights': None},\n",
      " {'n_neighbors': 100, 'p': 2, 'weights': 'uniform'},\n",
      " {'n_neighbors': 100, 'p': 2, 'weights': 'distance'},\n",
      " {'n_neighbors': 100, 'p': 2, 'weights': None},\n",
      " {'n_neighbors': 150, 'p': 2, 'weights': 'uniform'},\n",
      " {'n_neighbors': 150, 'p': 2, 'weights': 'distance'},\n",
      " {'n_neighbors': 150, 'p': 2, 'weights': None},\n",
      " {'n_neighbors': 200, 'p': 2, 'weights': 'uniform'},\n",
      " {'n_neighbors': 200, 'p': 2, 'weights': 'distance'},\n",
      " {'n_neighbors': 200, 'p': 2, 'weights': None}]\n"
     ]
    }
   ],
   "source": [
    "search = GridSearchCV(clf, param_grid=param_grid, cv=5, n_jobs=1, scoring='roc_auc')\n",
    "search.fit(X_train, y_train)\n",
    "print(search.best_score_)\n",
    "pprint(search.cv_results_['mean_test_score'])\n",
    "pprint(search.cv_results_['params'])"
   ]
  },
  {
   "cell_type": "code",
   "execution_count": 272,
   "metadata": {},
   "outputs": [
    {
     "name": "stdout",
     "output_type": "stream",
     "text": [
      "{'n_neighbors': 200, 'p': 2, 'weights': 'distance'}\n"
     ]
    }
   ],
   "source": [
    "print(search.best_params_)"
   ]
  },
  {
   "cell_type": "markdown",
   "metadata": {},
   "source": [
    "<p> _Tuning 5 </p>"
   ]
  },
  {
   "cell_type": "code",
   "execution_count": 273,
   "metadata": {},
   "outputs": [],
   "source": [
    "param_grid = {'n_neighbors': [250, 500, 750, 1000], 'weights': ['uniform', 'distance', None], 'p': [2]}"
   ]
  },
  {
   "cell_type": "code",
   "execution_count": 274,
   "metadata": {},
   "outputs": [
    {
     "name": "stdout",
     "output_type": "stream",
     "text": [
      "0.7938745766539612\n",
      "array([0.79246295, 0.79387458, 0.79246295, 0.78896019, 0.79070989,\n",
      "       0.78896019, 0.785245  , 0.78741301, 0.785245  , 0.78056286,\n",
      "       0.78373742, 0.78056286])\n",
      "[{'n_neighbors': 250, 'p': 2, 'weights': 'uniform'},\n",
      " {'n_neighbors': 250, 'p': 2, 'weights': 'distance'},\n",
      " {'n_neighbors': 250, 'p': 2, 'weights': None},\n",
      " {'n_neighbors': 500, 'p': 2, 'weights': 'uniform'},\n",
      " {'n_neighbors': 500, 'p': 2, 'weights': 'distance'},\n",
      " {'n_neighbors': 500, 'p': 2, 'weights': None},\n",
      " {'n_neighbors': 750, 'p': 2, 'weights': 'uniform'},\n",
      " {'n_neighbors': 750, 'p': 2, 'weights': 'distance'},\n",
      " {'n_neighbors': 750, 'p': 2, 'weights': None},\n",
      " {'n_neighbors': 1000, 'p': 2, 'weights': 'uniform'},\n",
      " {'n_neighbors': 1000, 'p': 2, 'weights': 'distance'},\n",
      " {'n_neighbors': 1000, 'p': 2, 'weights': None}]\n"
     ]
    }
   ],
   "source": [
    "search = GridSearchCV(clf, param_grid=param_grid, cv=5, n_jobs=1, scoring='roc_auc')\n",
    "search.fit(X_train, y_train)\n",
    "print(search.best_score_)\n",
    "pprint(search.cv_results_['mean_test_score'])\n",
    "pprint(search.cv_results_['params'])"
   ]
  },
  {
   "cell_type": "code",
   "execution_count": 275,
   "metadata": {},
   "outputs": [
    {
     "name": "stdout",
     "output_type": "stream",
     "text": [
      "{'n_neighbors': 250, 'p': 2, 'weights': 'distance'}\n"
     ]
    }
   ],
   "source": [
    "print(search.best_params_)"
   ]
  },
  {
   "cell_type": "markdown",
   "metadata": {},
   "source": [
    "<p> _Tuning 6 </p>"
   ]
  },
  {
   "cell_type": "code",
   "execution_count": 276,
   "metadata": {},
   "outputs": [],
   "source": [
    "param_grid = {'n_neighbors': [170, 190, 210, 230], 'weights': ['uniform', 'distance', None], 'p': [2]}"
   ]
  },
  {
   "cell_type": "code",
   "execution_count": 277,
   "metadata": {},
   "outputs": [
    {
     "name": "stdout",
     "output_type": "stream",
     "text": [
      "0.7947646771802686\n",
      "array([0.79321341, 0.79471871, 0.79321341, 0.79285097, 0.79430163,\n",
      "       0.79285097, 0.79355452, 0.79476468, 0.79355452, 0.79231925,\n",
      "       0.79381682, 0.79231925])\n",
      "[{'n_neighbors': 170, 'p': 2, 'weights': 'uniform'},\n",
      " {'n_neighbors': 170, 'p': 2, 'weights': 'distance'},\n",
      " {'n_neighbors': 170, 'p': 2, 'weights': None},\n",
      " {'n_neighbors': 190, 'p': 2, 'weights': 'uniform'},\n",
      " {'n_neighbors': 190, 'p': 2, 'weights': 'distance'},\n",
      " {'n_neighbors': 190, 'p': 2, 'weights': None},\n",
      " {'n_neighbors': 210, 'p': 2, 'weights': 'uniform'},\n",
      " {'n_neighbors': 210, 'p': 2, 'weights': 'distance'},\n",
      " {'n_neighbors': 210, 'p': 2, 'weights': None},\n",
      " {'n_neighbors': 230, 'p': 2, 'weights': 'uniform'},\n",
      " {'n_neighbors': 230, 'p': 2, 'weights': 'distance'},\n",
      " {'n_neighbors': 230, 'p': 2, 'weights': None}]\n"
     ]
    }
   ],
   "source": [
    "search = GridSearchCV(clf, param_grid=param_grid, cv=5, n_jobs=1, scoring='roc_auc')\n",
    "search.fit(X_train, y_train)\n",
    "print(search.best_score_)\n",
    "pprint(search.cv_results_['mean_test_score'])\n",
    "pprint(search.cv_results_['params'])"
   ]
  },
  {
   "cell_type": "code",
   "execution_count": 278,
   "metadata": {},
   "outputs": [
    {
     "name": "stdout",
     "output_type": "stream",
     "text": [
      "{'n_neighbors': 210, 'p': 2, 'weights': 'distance'}\n"
     ]
    }
   ],
   "source": [
    "print(search.best_params_)"
   ]
  },
  {
   "cell_type": "markdown",
   "metadata": {},
   "source": [
    "We guess that, we can't do much more with this model. The best score so far is 0.79 for n_neighbors=200."
   ]
  },
  {
   "cell_type": "markdown",
   "metadata": {},
   "source": [
    "<p> _Tuned model </p>"
   ]
  },
  {
   "cell_type": "code",
   "execution_count": 19,
   "metadata": {},
   "outputs": [],
   "source": [
    "KNeighborsClassifier_clf = KNeighborsClassifier(n_neighbors=200, weights='distance', p=2)"
   ]
  },
  {
   "cell_type": "code",
   "execution_count": 61,
   "metadata": {},
   "outputs": [
    {
     "data": {
      "text/plain": [
       "KNeighborsClassifier(n_neighbors=200, weights='distance')"
      ]
     },
     "execution_count": 61,
     "metadata": {},
     "output_type": "execute_result"
    }
   ],
   "source": [
    "KNeighborsClassifier_clf.fit(X_train, y_train)"
   ]
  },
  {
   "cell_type": "code",
   "execution_count": 62,
   "metadata": {},
   "outputs": [
    {
     "data": {
      "text/plain": [
       "((991, 70), (991,))"
      ]
     },
     "execution_count": 62,
     "metadata": {},
     "output_type": "execute_result"
    }
   ],
   "source": [
    "X_test.shape, y_test.shape"
   ]
  },
  {
   "cell_type": "code",
   "execution_count": 63,
   "metadata": {},
   "outputs": [
    {
     "name": "stdout",
     "output_type": "stream",
     "text": [
      "1.0\n"
     ]
    },
    {
     "data": {
      "text/plain": [
       "0.7860052522556098"
      ]
     },
     "execution_count": 63,
     "metadata": {},
     "output_type": "execute_result"
    }
   ],
   "source": [
    "print(roc_auc_score(y_train-1, KNeighborsClassifier_clf.predict_proba(X_train)[:, 1]))\n",
    "roc_auc_score(y_test-1, KNeighborsClassifier_clf.predict_proba(X_test)[:, 1])"
   ]
  },
  {
   "cell_type": "code",
   "execution_count": 64,
   "metadata": {},
   "outputs": [
    {
     "data": {
      "text/html": [
       "<div>\n",
       "<style scoped>\n",
       "    .dataframe tbody tr th:only-of-type {\n",
       "        vertical-align: middle;\n",
       "    }\n",
       "\n",
       "    .dataframe tbody tr th {\n",
       "        vertical-align: top;\n",
       "    }\n",
       "\n",
       "    .dataframe thead th {\n",
       "        text-align: right;\n",
       "    }\n",
       "</style>\n",
       "<table border=\"1\" class=\"dataframe\">\n",
       "  <thead>\n",
       "    <tr style=\"text-align: right;\">\n",
       "      <th></th>\n",
       "      <th>ROC_AUC train</th>\n",
       "      <th>ROC_AUC val</th>\n",
       "      <th>ROC_AUC test</th>\n",
       "    </tr>\n",
       "  </thead>\n",
       "  <tbody>\n",
       "    <tr>\n",
       "      <th>KNeighborsClassifier</th>\n",
       "      <td>1.0</td>\n",
       "      <td>0.79</td>\n",
       "      <td>0.79</td>\n",
       "    </tr>\n",
       "  </tbody>\n",
       "</table>\n",
       "</div>"
      ],
      "text/plain": [
       "                      ROC_AUC train  ROC_AUC val  ROC_AUC test\n",
       "KNeighborsClassifier            1.0         0.79          0.79"
      ]
     },
     "execution_count": 64,
     "metadata": {},
     "output_type": "execute_result"
    }
   ],
   "source": [
    "data_KNeighborsClassifier = {'ROC_AUC train': [1.00], 'ROC_AUC val': [0.79], 'ROC_AUC test': [0.79]}\n",
    "data_KNeighborsClassifier = pd.DataFrame(data_KNeighborsClassifier, index=['KNeighborsClassifier'])\n",
    "data_KNeighborsClassifier"
   ]
  },
  {
   "cell_type": "markdown",
   "metadata": {},
   "source": [
    "Here we have an overfitting. We can avoid it f.e. by simplifying the model, reducing the number of features, gathering more data, or reducing the noise in training data.\n",
    "\n",
    "The easiest solution will be to try other models. Let's try SVC now."
   ]
  },
  {
   "cell_type": "markdown",
   "metadata": {},
   "source": [
    "<p> SVC </p>\n",
    "\n",
    "Note: [2] SVC is perfect for complex but small or medium training sets. Also, it scales well with the\n",
    "number of features, espeically with sparse features."
   ]
  },
  {
   "cell_type": "code",
   "execution_count": 289,
   "metadata": {},
   "outputs": [],
   "source": [
    "clf = SVC(random_state=42)"
   ]
  },
  {
   "cell_type": "markdown",
   "metadata": {},
   "source": [
    "<p> _Tuning 1 </p>"
   ]
  },
  {
   "cell_type": "code",
   "execution_count": 292,
   "metadata": {},
   "outputs": [],
   "source": [
    "param_grid = {'C': [0.001, 0.003, 0.01, 0.3, 1], 'kernel':\n",
    "              ['linear', 'poly','rbf', 'sigmoid'],\n",
    "             'gamma': ['scale', 'auto'], 'class_weight': ['balanced']}"
   ]
  },
  {
   "cell_type": "code",
   "execution_count": 293,
   "metadata": {},
   "outputs": [
    {
     "name": "stdout",
     "output_type": "stream",
     "text": [
      "0.8298278215488477\n",
      "array([0.82404859, 0.76774777, 0.7757943 , 0.7742177 , 0.82404859,\n",
      "       0.7677099 , 0.77578752, 0.77422716, 0.8293483 , 0.77202381,\n",
      "       0.7757943 , 0.78167115, 0.8293483 , 0.77199273, 0.77578752,\n",
      "       0.78167522, 0.82982782, 0.7794347 , 0.77981588, 0.79680317,\n",
      "       0.82982782, 0.77946042, 0.7798159 , 0.79676669, 0.82681877,\n",
      "       0.80153792, 0.82261964, 0.69793519, 0.82681877, 0.80153385,\n",
      "       0.82262638, 0.69790946, 0.82673106, 0.79542011, 0.82340471,\n",
      "       0.68366674, 0.82673106, 0.79547694, 0.82337361, 0.68371909])\n",
      "[{'C': 0.001, 'class_weight': 'balanced', 'gamma': 'scale', 'kernel': 'linear'},\n",
      " {'C': 0.001, 'class_weight': 'balanced', 'gamma': 'scale', 'kernel': 'poly'},\n",
      " {'C': 0.001, 'class_weight': 'balanced', 'gamma': 'scale', 'kernel': 'rbf'},\n",
      " {'C': 0.001,\n",
      "  'class_weight': 'balanced',\n",
      "  'gamma': 'scale',\n",
      "  'kernel': 'sigmoid'},\n",
      " {'C': 0.001, 'class_weight': 'balanced', 'gamma': 'auto', 'kernel': 'linear'},\n",
      " {'C': 0.001, 'class_weight': 'balanced', 'gamma': 'auto', 'kernel': 'poly'},\n",
      " {'C': 0.001, 'class_weight': 'balanced', 'gamma': 'auto', 'kernel': 'rbf'},\n",
      " {'C': 0.001, 'class_weight': 'balanced', 'gamma': 'auto', 'kernel': 'sigmoid'},\n",
      " {'C': 0.003, 'class_weight': 'balanced', 'gamma': 'scale', 'kernel': 'linear'},\n",
      " {'C': 0.003, 'class_weight': 'balanced', 'gamma': 'scale', 'kernel': 'poly'},\n",
      " {'C': 0.003, 'class_weight': 'balanced', 'gamma': 'scale', 'kernel': 'rbf'},\n",
      " {'C': 0.003,\n",
      "  'class_weight': 'balanced',\n",
      "  'gamma': 'scale',\n",
      "  'kernel': 'sigmoid'},\n",
      " {'C': 0.003, 'class_weight': 'balanced', 'gamma': 'auto', 'kernel': 'linear'},\n",
      " {'C': 0.003, 'class_weight': 'balanced', 'gamma': 'auto', 'kernel': 'poly'},\n",
      " {'C': 0.003, 'class_weight': 'balanced', 'gamma': 'auto', 'kernel': 'rbf'},\n",
      " {'C': 0.003, 'class_weight': 'balanced', 'gamma': 'auto', 'kernel': 'sigmoid'},\n",
      " {'C': 0.01, 'class_weight': 'balanced', 'gamma': 'scale', 'kernel': 'linear'},\n",
      " {'C': 0.01, 'class_weight': 'balanced', 'gamma': 'scale', 'kernel': 'poly'},\n",
      " {'C': 0.01, 'class_weight': 'balanced', 'gamma': 'scale', 'kernel': 'rbf'},\n",
      " {'C': 0.01, 'class_weight': 'balanced', 'gamma': 'scale', 'kernel': 'sigmoid'},\n",
      " {'C': 0.01, 'class_weight': 'balanced', 'gamma': 'auto', 'kernel': 'linear'},\n",
      " {'C': 0.01, 'class_weight': 'balanced', 'gamma': 'auto', 'kernel': 'poly'},\n",
      " {'C': 0.01, 'class_weight': 'balanced', 'gamma': 'auto', 'kernel': 'rbf'},\n",
      " {'C': 0.01, 'class_weight': 'balanced', 'gamma': 'auto', 'kernel': 'sigmoid'},\n",
      " {'C': 0.3, 'class_weight': 'balanced', 'gamma': 'scale', 'kernel': 'linear'},\n",
      " {'C': 0.3, 'class_weight': 'balanced', 'gamma': 'scale', 'kernel': 'poly'},\n",
      " {'C': 0.3, 'class_weight': 'balanced', 'gamma': 'scale', 'kernel': 'rbf'},\n",
      " {'C': 0.3, 'class_weight': 'balanced', 'gamma': 'scale', 'kernel': 'sigmoid'},\n",
      " {'C': 0.3, 'class_weight': 'balanced', 'gamma': 'auto', 'kernel': 'linear'},\n",
      " {'C': 0.3, 'class_weight': 'balanced', 'gamma': 'auto', 'kernel': 'poly'},\n",
      " {'C': 0.3, 'class_weight': 'balanced', 'gamma': 'auto', 'kernel': 'rbf'},\n",
      " {'C': 0.3, 'class_weight': 'balanced', 'gamma': 'auto', 'kernel': 'sigmoid'},\n",
      " {'C': 1, 'class_weight': 'balanced', 'gamma': 'scale', 'kernel': 'linear'},\n",
      " {'C': 1, 'class_weight': 'balanced', 'gamma': 'scale', 'kernel': 'poly'},\n",
      " {'C': 1, 'class_weight': 'balanced', 'gamma': 'scale', 'kernel': 'rbf'},\n",
      " {'C': 1, 'class_weight': 'balanced', 'gamma': 'scale', 'kernel': 'sigmoid'},\n",
      " {'C': 1, 'class_weight': 'balanced', 'gamma': 'auto', 'kernel': 'linear'},\n",
      " {'C': 1, 'class_weight': 'balanced', 'gamma': 'auto', 'kernel': 'poly'},\n",
      " {'C': 1, 'class_weight': 'balanced', 'gamma': 'auto', 'kernel': 'rbf'},\n",
      " {'C': 1, 'class_weight': 'balanced', 'gamma': 'auto', 'kernel': 'sigmoid'}]\n"
     ]
    }
   ],
   "source": [
    "search = GridSearchCV(clf, param_grid=param_grid, cv=5, n_jobs=1, scoring='roc_auc')\n",
    "search.fit(X_train, y_train)\n",
    "print(search.best_score_)\n",
    "pprint(search.cv_results_['mean_test_score'])\n",
    "pprint(search.cv_results_['params'])"
   ]
  },
  {
   "cell_type": "code",
   "execution_count": 294,
   "metadata": {},
   "outputs": [
    {
     "name": "stdout",
     "output_type": "stream",
     "text": [
      "{'C': 0.01, 'class_weight': 'balanced', 'gamma': 'scale', 'kernel': 'linear'}\n"
     ]
    }
   ],
   "source": [
    "print(search.best_params_)"
   ]
  },
  {
   "cell_type": "markdown",
   "metadata": {},
   "source": [
    "<p> _Tuning 2 </p>"
   ]
  },
  {
   "cell_type": "code",
   "execution_count": 296,
   "metadata": {},
   "outputs": [],
   "source": [
    "param_grid = {'C': uniform(0.004, 0.016), 'kernel':\n",
    "              ['linear', 'poly','rbf'],\n",
    "             'gamma': ['scale', 'auto'], 'class_weight': ['balanced']}"
   ]
  },
  {
   "cell_type": "code",
   "execution_count": 297,
   "metadata": {},
   "outputs": [
    {
     "name": "stdout",
     "output_type": "stream",
     "text": [
      "0.8297708451228066\n",
      "array([0.7843694 , 0.77765501, 0.78209744, 0.82964645, 0.77583214,\n",
      "       0.7793033 , 0.78465489, 0.82977085, 0.78386694, 0.77748369])\n",
      "[{'C': 0.015740751766869572,\n",
      "  'class_weight': 'balanced',\n",
      "  'gamma': 'auto',\n",
      "  'kernel': 'poly'},\n",
      " {'C': 0.008014020617934162,\n",
      "  'class_weight': 'balanced',\n",
      "  'gamma': 'auto',\n",
      "  'kernel': 'poly'},\n",
      " {'C': 0.012384332576230287,\n",
      "  'class_weight': 'balanced',\n",
      "  'gamma': 'scale',\n",
      "  'kernel': 'poly'},\n",
      " {'C': 0.014261129795698223,\n",
      "  'class_weight': 'balanced',\n",
      "  'gamma': 'scale',\n",
      "  'kernel': 'linear'},\n",
      " {'C': 0.005399213212432855,\n",
      "  'class_weight': 'balanced',\n",
      "  'gamma': 'auto',\n",
      "  'kernel': 'rbf'},\n",
      " {'C': 0.009400717876929542,\n",
      "  'class_weight': 'balanced',\n",
      "  'gamma': 'scale',\n",
      "  'kernel': 'rbf'},\n",
      " {'C': 0.016296127888363578,\n",
      "  'class_weight': 'balanced',\n",
      "  'gamma': 'auto',\n",
      "  'kernel': 'poly'},\n",
      " {'C': 0.012223798392364017,\n",
      "  'class_weight': 'balanced',\n",
      "  'gamma': 'scale',\n",
      "  'kernel': 'linear'},\n",
      " {'C': 0.014507512919195154,\n",
      "  'class_weight': 'balanced',\n",
      "  'gamma': 'auto',\n",
      "  'kernel': 'rbf'},\n",
      " {'C': 0.007184272523343935,\n",
      "  'class_weight': 'balanced',\n",
      "  'gamma': 'auto',\n",
      "  'kernel': 'rbf'}]\n"
     ]
    }
   ],
   "source": [
    "search = RandomizedSearchCV(clf, param_distributions=param_grid, cv=5, n_jobs=1, scoring='roc_auc')\n",
    "search.fit(X_train, y_train)\n",
    "print(search.best_score_)\n",
    "pprint(search.cv_results_['mean_test_score'])\n",
    "pprint(search.cv_results_['params'])"
   ]
  },
  {
   "cell_type": "code",
   "execution_count": 298,
   "metadata": {},
   "outputs": [
    {
     "name": "stdout",
     "output_type": "stream",
     "text": [
      "{'C': 0.012223798392364017, 'class_weight': 'balanced', 'gamma': 'scale', 'kernel': 'linear'}\n"
     ]
    }
   ],
   "source": [
    "print(search.best_params_)"
   ]
  },
  {
   "cell_type": "markdown",
   "metadata": {},
   "source": [
    "Model from tuning 1 is better. Let's do a prediction on a test set."
   ]
  },
  {
   "cell_type": "markdown",
   "metadata": {},
   "source": [
    "<p> _Tuned model </p>"
   ]
  },
  {
   "cell_type": "code",
   "execution_count": 20,
   "metadata": {},
   "outputs": [],
   "source": [
    "SVC_clf = SVC(C=0.01, class_weight='balanced', gamma='scale', kernel='linear', random_state=42, probability=True)"
   ]
  },
  {
   "cell_type": "code",
   "execution_count": 67,
   "metadata": {},
   "outputs": [
    {
     "data": {
      "text/plain": [
       "SVC(C=0.01, class_weight='balanced', kernel='linear', probability=True,\n",
       "    random_state=42)"
      ]
     },
     "execution_count": 67,
     "metadata": {},
     "output_type": "execute_result"
    }
   ],
   "source": [
    "SVC_clf.fit(X_train, y_train)"
   ]
  },
  {
   "cell_type": "code",
   "execution_count": 68,
   "metadata": {},
   "outputs": [
    {
     "data": {
      "text/plain": [
       "((991, 70), (991,))"
      ]
     },
     "execution_count": 68,
     "metadata": {},
     "output_type": "execute_result"
    }
   ],
   "source": [
    "X_test.shape, y_test.shape"
   ]
  },
  {
   "cell_type": "code",
   "execution_count": 69,
   "metadata": {},
   "outputs": [
    {
     "name": "stdout",
     "output_type": "stream",
     "text": [
      "0.8397535956959606\n"
     ]
    },
    {
     "data": {
      "text/plain": [
       "0.8310676119571152"
      ]
     },
     "execution_count": 69,
     "metadata": {},
     "output_type": "execute_result"
    }
   ],
   "source": [
    "print(roc_auc_score(y_train-1, SVC_clf.predict_proba(X_train)[:, 1]))\n",
    "roc_auc_score(y_test-1, SVC_clf.predict_proba(X_test)[:, 1])"
   ]
  },
  {
   "cell_type": "code",
   "execution_count": 71,
   "metadata": {},
   "outputs": [
    {
     "data": {
      "text/html": [
       "<div>\n",
       "<style scoped>\n",
       "    .dataframe tbody tr th:only-of-type {\n",
       "        vertical-align: middle;\n",
       "    }\n",
       "\n",
       "    .dataframe tbody tr th {\n",
       "        vertical-align: top;\n",
       "    }\n",
       "\n",
       "    .dataframe thead th {\n",
       "        text-align: right;\n",
       "    }\n",
       "</style>\n",
       "<table border=\"1\" class=\"dataframe\">\n",
       "  <thead>\n",
       "    <tr style=\"text-align: right;\">\n",
       "      <th></th>\n",
       "      <th>ROC_AUC train</th>\n",
       "      <th>ROC_AUC val</th>\n",
       "      <th>ROC_AUC test</th>\n",
       "    </tr>\n",
       "  </thead>\n",
       "  <tbody>\n",
       "    <tr>\n",
       "      <th>SVC</th>\n",
       "      <td>0.84</td>\n",
       "      <td>0.83</td>\n",
       "      <td>0.83</td>\n",
       "    </tr>\n",
       "  </tbody>\n",
       "</table>\n",
       "</div>"
      ],
      "text/plain": [
       "     ROC_AUC train  ROC_AUC val  ROC_AUC test\n",
       "SVC           0.84         0.83          0.83"
      ]
     },
     "execution_count": 71,
     "metadata": {},
     "output_type": "execute_result"
    }
   ],
   "source": [
    "data_SVC = {'ROC_AUC train': [0.84], 'ROC_AUC val': [0.83],'ROC_AUC test': [0.83]}\n",
    "data_SVC = pd.DataFrame(data_SVC, index=['SVC'])\n",
    "data_SVC"
   ]
  },
  {
   "cell_type": "markdown",
   "metadata": {},
   "source": [
    "This time, no under or overfitting."
   ]
  },
  {
   "cell_type": "markdown",
   "metadata": {},
   "source": [
    "Let's try to create ensemble classifier, to get even better results."
   ]
  },
  {
   "cell_type": "markdown",
   "metadata": {},
   "source": [
    "<p> Ensemble methods </p>"
   ]
  },
  {
   "cell_type": "markdown",
   "metadata": {},
   "source": [
    "<p> Random Forest </p>"
   ]
  },
  {
   "cell_type": "markdown",
   "metadata": {},
   "source": [
    "RandomForestClassifier has a lot of hyperparameters. Let's focus on the most important ones at first."
   ]
  },
  {
   "cell_type": "code",
   "execution_count": 22,
   "metadata": {},
   "outputs": [],
   "source": [
    "clf = RandomForestClassifier(random_state=42)"
   ]
  },
  {
   "cell_type": "markdown",
   "metadata": {},
   "source": [
    "<p> _Tuning 1 </p>"
   ]
  },
  {
   "cell_type": "code",
   "execution_count": 23,
   "metadata": {},
   "outputs": [],
   "source": [
    "param_grid = {'n_estimators': randint(20,180)}"
   ]
  },
  {
   "cell_type": "code",
   "execution_count": 24,
   "metadata": {},
   "outputs": [
    {
     "name": "stdout",
     "output_type": "stream",
     "text": [
      "0.82673734562609\n",
      "array([0.82599181, 0.82567079, 0.82539402, 0.82599181, 0.82587499,\n",
      "       0.82566172, 0.82136776, 0.82186533, 0.82673735, 0.82380122])\n",
      "[{'n_estimators': 127},\n",
      " {'n_estimators': 118},\n",
      " {'n_estimators': 111},\n",
      " {'n_estimators': 127},\n",
      " {'n_estimators': 124},\n",
      " {'n_estimators': 98},\n",
      " {'n_estimators': 34},\n",
      " {'n_estimators': 56},\n",
      " {'n_estimators': 148},\n",
      " {'n_estimators': 76}]\n"
     ]
    }
   ],
   "source": [
    "search = RandomizedSearchCV(clf, param_distributions=param_grid, cv=5, n_jobs=1, scoring='roc_auc')\n",
    "search.fit(X_train, y_train)\n",
    "print(search.best_score_)\n",
    "pprint(search.cv_results_['mean_test_score'])\n",
    "pprint(search.cv_results_['params'])"
   ]
  },
  {
   "cell_type": "code",
   "execution_count": 25,
   "metadata": {},
   "outputs": [
    {
     "name": "stdout",
     "output_type": "stream",
     "text": [
      "{'n_estimators': 148}\n"
     ]
    }
   ],
   "source": [
    "print(search.best_params_)"
   ]
  },
  {
   "cell_type": "markdown",
   "metadata": {},
   "source": [
    "<p> _Tuning 2 </p>"
   ]
  },
  {
   "cell_type": "code",
   "execution_count": 26,
   "metadata": {},
   "outputs": [],
   "source": [
    "param_grid = {'n_estimators': randint(150,250)}"
   ]
  },
  {
   "cell_type": "code",
   "execution_count": 27,
   "metadata": {},
   "outputs": [
    {
     "name": "stdout",
     "output_type": "stream",
     "text": [
      "0.8273587242991776\n",
      "array([0.82673921, 0.82726429, 0.82711718, 0.82673167, 0.82717275,\n",
      "       0.82677084, 0.82675433, 0.82735872, 0.82716602, 0.82671077])\n",
      "[{'n_estimators': 158},\n",
      " {'n_estimators': 248},\n",
      " {'n_estimators': 164},\n",
      " {'n_estimators': 189},\n",
      " {'n_estimators': 221},\n",
      " {'n_estimators': 198},\n",
      " {'n_estimators': 150},\n",
      " {'n_estimators': 238},\n",
      " {'n_estimators': 222},\n",
      " {'n_estimators': 155}]\n"
     ]
    }
   ],
   "source": [
    "search = RandomizedSearchCV(clf, param_distributions=param_grid, cv=5, n_jobs=1, scoring='roc_auc')\n",
    "search.fit(X_train, y_train)\n",
    "print(search.best_score_)\n",
    "pprint(search.cv_results_['mean_test_score'])\n",
    "pprint(search.cv_results_['params'])"
   ]
  },
  {
   "cell_type": "code",
   "execution_count": 28,
   "metadata": {},
   "outputs": [
    {
     "name": "stdout",
     "output_type": "stream",
     "text": [
      "{'n_estimators': 238}\n"
     ]
    }
   ],
   "source": [
    "print(search.best_params_)"
   ]
  },
  {
   "cell_type": "markdown",
   "metadata": {},
   "source": [
    "Slightly better result. It's time tu tune another hyperparameter."
   ]
  },
  {
   "cell_type": "markdown",
   "metadata": {},
   "source": [
    "<p> _Tuning 3 </p>"
   ]
  },
  {
   "cell_type": "code",
   "execution_count": 29,
   "metadata": {},
   "outputs": [],
   "source": [
    "param_grid = {'n_estimators': [238], 'max_features': [None, 1, 2, 3, 4, 5, 6, 7, 8, 9]}"
   ]
  },
  {
   "cell_type": "code",
   "execution_count": 30,
   "metadata": {},
   "outputs": [
    {
     "name": "stdout",
     "output_type": "stream",
     "text": [
      "0.829230564525503\n",
      "array([0.82723171, 0.80135017, 0.81093649, 0.81926117, 0.82481016,\n",
      "       0.82706144, 0.82595066, 0.82698262, 0.82735872, 0.82923056])\n",
      "[{'max_features': None, 'n_estimators': 238},\n",
      " {'max_features': 1, 'n_estimators': 238},\n",
      " {'max_features': 2, 'n_estimators': 238},\n",
      " {'max_features': 3, 'n_estimators': 238},\n",
      " {'max_features': 4, 'n_estimators': 238},\n",
      " {'max_features': 5, 'n_estimators': 238},\n",
      " {'max_features': 6, 'n_estimators': 238},\n",
      " {'max_features': 7, 'n_estimators': 238},\n",
      " {'max_features': 8, 'n_estimators': 238},\n",
      " {'max_features': 9, 'n_estimators': 238}]\n"
     ]
    }
   ],
   "source": [
    "search = RandomizedSearchCV(clf, param_distributions=param_grid, cv=5, n_jobs=1, scoring='roc_auc')\n",
    "search.fit(X_train, y_train)\n",
    "print(search.best_score_)\n",
    "pprint(search.cv_results_['mean_test_score'])\n",
    "pprint(search.cv_results_['params'])"
   ]
  },
  {
   "cell_type": "code",
   "execution_count": 31,
   "metadata": {},
   "outputs": [
    {
     "name": "stdout",
     "output_type": "stream",
     "text": [
      "{'n_estimators': 238, 'max_features': 9}\n"
     ]
    }
   ],
   "source": [
    "print(search.best_params_)"
   ]
  },
  {
   "cell_type": "markdown",
   "metadata": {},
   "source": [
    "<p> _Tuning 4 </p>"
   ]
  },
  {
   "cell_type": "code",
   "execution_count": 32,
   "metadata": {},
   "outputs": [],
   "source": [
    "param_grid = {'n_estimators': [238], 'max_features': [9, 13, 17, 21]}"
   ]
  },
  {
   "cell_type": "code",
   "execution_count": 34,
   "metadata": {},
   "outputs": [
    {
     "name": "stdout",
     "output_type": "stream",
     "text": [
      "0.8305907061561463\n",
      "array([0.82923056, 0.82947203, 0.83059071, 0.83013052])\n",
      "[{'max_features': 9, 'n_estimators': 238},\n",
      " {'max_features': 13, 'n_estimators': 238},\n",
      " {'max_features': 17, 'n_estimators': 238},\n",
      " {'max_features': 21, 'n_estimators': 238}]\n"
     ]
    }
   ],
   "source": [
    "search = GridSearchCV(clf, param_grid=param_grid, cv=5, n_jobs=1, scoring='roc_auc')\n",
    "search.fit(X_train, y_train)\n",
    "print(search.best_score_)\n",
    "pprint(search.cv_results_['mean_test_score'])\n",
    "pprint(search.cv_results_['params'])"
   ]
  },
  {
   "cell_type": "code",
   "execution_count": 35,
   "metadata": {},
   "outputs": [
    {
     "name": "stdout",
     "output_type": "stream",
     "text": [
      "{'max_features': 17, 'n_estimators': 238}\n"
     ]
    }
   ],
   "source": [
    "print(search.best_params_)"
   ]
  },
  {
   "cell_type": "markdown",
   "metadata": {},
   "source": [
    "<p> _Tuning 5 </p>"
   ]
  },
  {
   "cell_type": "code",
   "execution_count": 36,
   "metadata": {},
   "outputs": [],
   "source": [
    "param_grid = {'n_estimators': [238], 'max_features': [17],\n",
    "             'min_samples_split': randint(2,14)}"
   ]
  },
  {
   "cell_type": "code",
   "execution_count": 37,
   "metadata": {},
   "outputs": [
    {
     "name": "stdout",
     "output_type": "stream",
     "text": [
      "0.8321058010507368\n",
      "array([0.83059071, 0.83082279, 0.83029377, 0.83084505, 0.82949038,\n",
      "       0.83084505, 0.82917761, 0.83058675, 0.82874405, 0.8321058 ])\n",
      "[{'max_features': 17, 'min_samples_split': 2, 'n_estimators': 238},\n",
      " {'max_features': 17, 'min_samples_split': 7, 'n_estimators': 238},\n",
      " {'max_features': 17, 'min_samples_split': 6, 'n_estimators': 238},\n",
      " {'max_features': 17, 'min_samples_split': 10, 'n_estimators': 238},\n",
      " {'max_features': 17, 'min_samples_split': 5, 'n_estimators': 238},\n",
      " {'max_features': 17, 'min_samples_split': 10, 'n_estimators': 238},\n",
      " {'max_features': 17, 'min_samples_split': 3, 'n_estimators': 238},\n",
      " {'max_features': 17, 'min_samples_split': 9, 'n_estimators': 238},\n",
      " {'max_features': 17, 'min_samples_split': 4, 'n_estimators': 238},\n",
      " {'max_features': 17, 'min_samples_split': 12, 'n_estimators': 238}]\n"
     ]
    }
   ],
   "source": [
    "search = RandomizedSearchCV(clf, param_distributions=param_grid, cv=5, n_jobs=1, scoring='roc_auc')\n",
    "search.fit(X_train, y_train)\n",
    "print(search.best_score_)\n",
    "pprint(search.cv_results_['mean_test_score'])\n",
    "pprint(search.cv_results_['params'])"
   ]
  },
  {
   "cell_type": "code",
   "execution_count": 38,
   "metadata": {},
   "outputs": [
    {
     "name": "stdout",
     "output_type": "stream",
     "text": [
      "{'max_features': 17, 'min_samples_split': 12, 'n_estimators': 238}\n"
     ]
    }
   ],
   "source": [
    "print(search.best_params_)"
   ]
  },
  {
   "cell_type": "markdown",
   "metadata": {},
   "source": [
    "<p> _Tuning 6 </p>"
   ]
  },
  {
   "cell_type": "code",
   "execution_count": 39,
   "metadata": {},
   "outputs": [],
   "source": [
    "param_grid = {'n_estimators': [238], 'max_features': [17],\n",
    "             'min_samples_split': [12], 'max_depth': [None, 9, 10, 11, 12, 13, 14, 15]}"
   ]
  },
  {
   "cell_type": "code",
   "execution_count": 41,
   "metadata": {},
   "outputs": [
    {
     "name": "stdout",
     "output_type": "stream",
     "text": [
      "0.8354997347935804\n",
      "array([0.8321058 , 0.83533234, 0.83549973, 0.83422302, 0.83239001,\n",
      "       0.83197455, 0.83355837, 0.83118592])\n",
      "[{'max_depth': None,\n",
      "  'max_features': 17,\n",
      "  'min_samples_split': 12,\n",
      "  'n_estimators': 238},\n",
      " {'max_depth': 9,\n",
      "  'max_features': 17,\n",
      "  'min_samples_split': 12,\n",
      "  'n_estimators': 238},\n",
      " {'max_depth': 10,\n",
      "  'max_features': 17,\n",
      "  'min_samples_split': 12,\n",
      "  'n_estimators': 238},\n",
      " {'max_depth': 11,\n",
      "  'max_features': 17,\n",
      "  'min_samples_split': 12,\n",
      "  'n_estimators': 238},\n",
      " {'max_depth': 12,\n",
      "  'max_features': 17,\n",
      "  'min_samples_split': 12,\n",
      "  'n_estimators': 238},\n",
      " {'max_depth': 13,\n",
      "  'max_features': 17,\n",
      "  'min_samples_split': 12,\n",
      "  'n_estimators': 238},\n",
      " {'max_depth': 14,\n",
      "  'max_features': 17,\n",
      "  'min_samples_split': 12,\n",
      "  'n_estimators': 238},\n",
      " {'max_depth': 15,\n",
      "  'max_features': 17,\n",
      "  'min_samples_split': 12,\n",
      "  'n_estimators': 238}]\n"
     ]
    }
   ],
   "source": [
    "search = GridSearchCV(clf, param_grid=param_grid, cv=5, n_jobs=1, scoring='roc_auc')\n",
    "search.fit(X_train, y_train)\n",
    "print(search.best_score_)\n",
    "pprint(search.cv_results_['mean_test_score'])\n",
    "pprint(search.cv_results_['params'])"
   ]
  },
  {
   "cell_type": "code",
   "execution_count": 42,
   "metadata": {},
   "outputs": [
    {
     "name": "stdout",
     "output_type": "stream",
     "text": [
      "{'max_depth': 10, 'max_features': 17, 'min_samples_split': 12, 'n_estimators': 238}\n"
     ]
    }
   ],
   "source": [
    "print(search.best_params_)"
   ]
  },
  {
   "cell_type": "markdown",
   "metadata": {},
   "source": [
    "<p> _Tuning 7 </p>"
   ]
  },
  {
   "cell_type": "code",
   "execution_count": 43,
   "metadata": {},
   "outputs": [],
   "source": [
    "param_grid = {'n_estimators': [238], 'max_features': [17],\n",
    "             'min_samples_split': [12], 'max_depth': [10],\n",
    "             'max_leaf_nodes': [None, 6, 7, 8],\n",
    "             'max_samples': [None, 0.8, 0.9, 1]}"
   ]
  },
  {
   "cell_type": "code",
   "execution_count": 44,
   "metadata": {},
   "outputs": [
    {
     "name": "stdout",
     "output_type": "stream",
     "text": [
      "0.8367629443259605\n",
      "array([0.83549973, 0.83510637, 0.83603765, 0.5       , 0.83431743,\n",
      "       0.83469584, 0.83460724, 0.5       , 0.83555039, 0.83561659,\n",
      "       0.83549883, 0.5       , 0.83635503, 0.83676294, 0.83635917,\n",
      "       0.5       ])\n",
      "[{'max_depth': 10,\n",
      "  'max_features': 17,\n",
      "  'max_leaf_nodes': None,\n",
      "  'max_samples': None,\n",
      "  'min_samples_split': 12,\n",
      "  'n_estimators': 238},\n",
      " {'max_depth': 10,\n",
      "  'max_features': 17,\n",
      "  'max_leaf_nodes': None,\n",
      "  'max_samples': 0.8,\n",
      "  'min_samples_split': 12,\n",
      "  'n_estimators': 238},\n",
      " {'max_depth': 10,\n",
      "  'max_features': 17,\n",
      "  'max_leaf_nodes': None,\n",
      "  'max_samples': 0.9,\n",
      "  'min_samples_split': 12,\n",
      "  'n_estimators': 238},\n",
      " {'max_depth': 10,\n",
      "  'max_features': 17,\n",
      "  'max_leaf_nodes': None,\n",
      "  'max_samples': 1,\n",
      "  'min_samples_split': 12,\n",
      "  'n_estimators': 238},\n",
      " {'max_depth': 10,\n",
      "  'max_features': 17,\n",
      "  'max_leaf_nodes': 6,\n",
      "  'max_samples': None,\n",
      "  'min_samples_split': 12,\n",
      "  'n_estimators': 238},\n",
      " {'max_depth': 10,\n",
      "  'max_features': 17,\n",
      "  'max_leaf_nodes': 6,\n",
      "  'max_samples': 0.8,\n",
      "  'min_samples_split': 12,\n",
      "  'n_estimators': 238},\n",
      " {'max_depth': 10,\n",
      "  'max_features': 17,\n",
      "  'max_leaf_nodes': 6,\n",
      "  'max_samples': 0.9,\n",
      "  'min_samples_split': 12,\n",
      "  'n_estimators': 238},\n",
      " {'max_depth': 10,\n",
      "  'max_features': 17,\n",
      "  'max_leaf_nodes': 6,\n",
      "  'max_samples': 1,\n",
      "  'min_samples_split': 12,\n",
      "  'n_estimators': 238},\n",
      " {'max_depth': 10,\n",
      "  'max_features': 17,\n",
      "  'max_leaf_nodes': 7,\n",
      "  'max_samples': None,\n",
      "  'min_samples_split': 12,\n",
      "  'n_estimators': 238},\n",
      " {'max_depth': 10,\n",
      "  'max_features': 17,\n",
      "  'max_leaf_nodes': 7,\n",
      "  'max_samples': 0.8,\n",
      "  'min_samples_split': 12,\n",
      "  'n_estimators': 238},\n",
      " {'max_depth': 10,\n",
      "  'max_features': 17,\n",
      "  'max_leaf_nodes': 7,\n",
      "  'max_samples': 0.9,\n",
      "  'min_samples_split': 12,\n",
      "  'n_estimators': 238},\n",
      " {'max_depth': 10,\n",
      "  'max_features': 17,\n",
      "  'max_leaf_nodes': 7,\n",
      "  'max_samples': 1,\n",
      "  'min_samples_split': 12,\n",
      "  'n_estimators': 238},\n",
      " {'max_depth': 10,\n",
      "  'max_features': 17,\n",
      "  'max_leaf_nodes': 8,\n",
      "  'max_samples': None,\n",
      "  'min_samples_split': 12,\n",
      "  'n_estimators': 238},\n",
      " {'max_depth': 10,\n",
      "  'max_features': 17,\n",
      "  'max_leaf_nodes': 8,\n",
      "  'max_samples': 0.8,\n",
      "  'min_samples_split': 12,\n",
      "  'n_estimators': 238},\n",
      " {'max_depth': 10,\n",
      "  'max_features': 17,\n",
      "  'max_leaf_nodes': 8,\n",
      "  'max_samples': 0.9,\n",
      "  'min_samples_split': 12,\n",
      "  'n_estimators': 238},\n",
      " {'max_depth': 10,\n",
      "  'max_features': 17,\n",
      "  'max_leaf_nodes': 8,\n",
      "  'max_samples': 1,\n",
      "  'min_samples_split': 12,\n",
      "  'n_estimators': 238}]\n"
     ]
    }
   ],
   "source": [
    "search = GridSearchCV(clf, param_grid=param_grid, cv=5, n_jobs=1, scoring='roc_auc')\n",
    "search.fit(X_train, y_train)\n",
    "print(search.best_score_)\n",
    "pprint(search.cv_results_['mean_test_score'])\n",
    "pprint(search.cv_results_['params'])"
   ]
  },
  {
   "cell_type": "code",
   "execution_count": 45,
   "metadata": {},
   "outputs": [
    {
     "name": "stdout",
     "output_type": "stream",
     "text": [
      "{'max_depth': 10, 'max_features': 17, 'max_leaf_nodes': 8, 'max_samples': 0.8, 'min_samples_split': 12, 'n_estimators': 238}\n"
     ]
    }
   ],
   "source": [
    "print(search.best_params_)"
   ]
  },
  {
   "cell_type": "markdown",
   "metadata": {},
   "source": [
    "Further tuning might help, but not much, let's do a prediction and the model summary."
   ]
  },
  {
   "cell_type": "markdown",
   "metadata": {},
   "source": [
    "<p> _Tuned model </p>"
   ]
  },
  {
   "cell_type": "code",
   "execution_count": 21,
   "metadata": {},
   "outputs": [],
   "source": [
    "RandomForestClassifier_clf = RandomForestClassifier(max_depth=10, max_features=17,\n",
    "                             max_leaf_nodes=8, max_samples=0.8,\n",
    "                             min_samples_split=12, n_estimators=238,\n",
    "                             random_state=42)"
   ]
  },
  {
   "cell_type": "code",
   "execution_count": 73,
   "metadata": {},
   "outputs": [
    {
     "data": {
      "text/plain": [
       "RandomForestClassifier(max_depth=10, max_features=17, max_leaf_nodes=8,\n",
       "                       max_samples=0.8, min_samples_split=12, n_estimators=238,\n",
       "                       random_state=42)"
      ]
     },
     "execution_count": 73,
     "metadata": {},
     "output_type": "execute_result"
    }
   ],
   "source": [
    "RandomForestClassifier_clf.fit(X_train, y_train)"
   ]
  },
  {
   "cell_type": "code",
   "execution_count": 74,
   "metadata": {},
   "outputs": [
    {
     "data": {
      "text/plain": [
       "((991, 70), (991,))"
      ]
     },
     "execution_count": 74,
     "metadata": {},
     "output_type": "execute_result"
    }
   ],
   "source": [
    "X_test.shape, y_test.shape"
   ]
  },
  {
   "cell_type": "code",
   "execution_count": 75,
   "metadata": {},
   "outputs": [
    {
     "name": "stdout",
     "output_type": "stream",
     "text": [
      "0.8471117951165583\n"
     ]
    },
    {
     "data": {
      "text/plain": [
       "0.8270850848074606"
      ]
     },
     "execution_count": 75,
     "metadata": {},
     "output_type": "execute_result"
    }
   ],
   "source": [
    "print(roc_auc_score(y_train-1, RandomForestClassifier_clf.predict_proba(X_train)[:, 1]))\n",
    "roc_auc_score(y_test-1, RandomForestClassifier_clf.predict_proba(X_test)[:, 1])"
   ]
  },
  {
   "cell_type": "code",
   "execution_count": 76,
   "metadata": {},
   "outputs": [
    {
     "data": {
      "text/html": [
       "<div>\n",
       "<style scoped>\n",
       "    .dataframe tbody tr th:only-of-type {\n",
       "        vertical-align: middle;\n",
       "    }\n",
       "\n",
       "    .dataframe tbody tr th {\n",
       "        vertical-align: top;\n",
       "    }\n",
       "\n",
       "    .dataframe thead th {\n",
       "        text-align: right;\n",
       "    }\n",
       "</style>\n",
       "<table border=\"1\" class=\"dataframe\">\n",
       "  <thead>\n",
       "    <tr style=\"text-align: right;\">\n",
       "      <th></th>\n",
       "      <th>ROC_AUC train</th>\n",
       "      <th>ROC_AUC val</th>\n",
       "      <th>ROC_AUC test</th>\n",
       "    </tr>\n",
       "  </thead>\n",
       "  <tbody>\n",
       "    <tr>\n",
       "      <th>RandomForestClassifier</th>\n",
       "      <td>0.85</td>\n",
       "      <td>0.84</td>\n",
       "      <td>0.83</td>\n",
       "    </tr>\n",
       "  </tbody>\n",
       "</table>\n",
       "</div>"
      ],
      "text/plain": [
       "                        ROC_AUC train  ROC_AUC val  ROC_AUC test\n",
       "RandomForestClassifier           0.85         0.84          0.83"
      ]
     },
     "execution_count": 76,
     "metadata": {},
     "output_type": "execute_result"
    }
   ],
   "source": [
    "data_RandomForestClassifier = {'ROC_AUC train': [0.85], 'ROC_AUC val': [0.84], 'ROC_AUC test': [0.83]}\n",
    "data_RandomForestClassifier = pd.DataFrame(data_RandomForestClassifier, index=['RandomForestClassifier'])\n",
    "data_RandomForestClassifier"
   ]
  },
  {
   "cell_type": "markdown",
   "metadata": {},
   "source": [
    "We can also try ExtraTreesClassifier, which gives extra randomness. Let's do a fast, similar tuning."
   ]
  },
  {
   "cell_type": "code",
   "execution_count": 59,
   "metadata": {},
   "outputs": [],
   "source": [
    "clf = ExtraTreesClassifier(random_state=42)"
   ]
  },
  {
   "cell_type": "markdown",
   "metadata": {},
   "source": [
    "<p> _Tuning 1 </p>"
   ]
  },
  {
   "cell_type": "code",
   "execution_count": 60,
   "metadata": {},
   "outputs": [],
   "source": [
    "param_grid = {'n_estimators': randint(20,180)}"
   ]
  },
  {
   "cell_type": "code",
   "execution_count": 61,
   "metadata": {},
   "outputs": [
    {
     "name": "stdout",
     "output_type": "stream",
     "text": [
      "0.8200708951467556\n",
      "array([0.80119855, 0.81721972, 0.8192153 , 0.81594699, 0.8200709 ,\n",
      "       0.81721972, 0.8141768 , 0.81803267, 0.80636648, 0.8100883 ])\n",
      "[{'n_estimators': 21},\n",
      " {'n_estimators': 111},\n",
      " {'n_estimators': 143},\n",
      " {'n_estimators': 96},\n",
      " {'n_estimators': 161},\n",
      " {'n_estimators': 111},\n",
      " {'n_estimators': 59},\n",
      " {'n_estimators': 134},\n",
      " {'n_estimators': 27},\n",
      " {'n_estimators': 34}]\n"
     ]
    }
   ],
   "source": [
    "search = RandomizedSearchCV(clf, param_distributions=param_grid, cv=5, n_jobs=1, scoring='roc_auc')\n",
    "search.fit(X_train, y_train)\n",
    "print(search.best_score_)\n",
    "pprint(search.cv_results_['mean_test_score'])\n",
    "pprint(search.cv_results_['params'])"
   ]
  },
  {
   "cell_type": "code",
   "execution_count": 62,
   "metadata": {},
   "outputs": [
    {
     "name": "stdout",
     "output_type": "stream",
     "text": [
      "{'n_estimators': 161}\n"
     ]
    }
   ],
   "source": [
    "print(search.best_params_)"
   ]
  },
  {
   "cell_type": "markdown",
   "metadata": {},
   "source": [
    "<p> _Tuning 2 </p>"
   ]
  },
  {
   "cell_type": "code",
   "execution_count": 63,
   "metadata": {},
   "outputs": [],
   "source": [
    "param_grid = {'n_estimators': randint(160,260)}"
   ]
  },
  {
   "cell_type": "code",
   "execution_count": 64,
   "metadata": {},
   "outputs": [
    {
     "name": "stdout",
     "output_type": "stream",
     "text": [
      "0.8211664938735813\n",
      "array([0.82116649, 0.82073993, 0.82053767, 0.82104028, 0.82110121,\n",
      "       0.82110673, 0.82082329, 0.82006287, 0.82092845, 0.82095528])\n",
      "[{'n_estimators': 212},\n",
      " {'n_estimators': 174},\n",
      " {'n_estimators': 172},\n",
      " {'n_estimators': 221},\n",
      " {'n_estimators': 251},\n",
      " {'n_estimators': 213},\n",
      " {'n_estimators': 240},\n",
      " {'n_estimators': 167},\n",
      " {'n_estimators': 226},\n",
      " {'n_estimators': 208}]\n"
     ]
    }
   ],
   "source": [
    "search = RandomizedSearchCV(clf, param_distributions=param_grid, cv=5, n_jobs=1, scoring='roc_auc')\n",
    "search.fit(X_train, y_train)\n",
    "print(search.best_score_)\n",
    "pprint(search.cv_results_['mean_test_score'])\n",
    "pprint(search.cv_results_['params'])"
   ]
  },
  {
   "cell_type": "code",
   "execution_count": 65,
   "metadata": {},
   "outputs": [
    {
     "name": "stdout",
     "output_type": "stream",
     "text": [
      "{'n_estimators': 212}\n"
     ]
    }
   ],
   "source": [
    "print(search.best_params_)"
   ]
  },
  {
   "cell_type": "markdown",
   "metadata": {},
   "source": [
    "<p> _Tuning 3 </p>"
   ]
  },
  {
   "cell_type": "code",
   "execution_count": 66,
   "metadata": {},
   "outputs": [],
   "source": [
    "param_grid = {'n_estimators': [212], 'max_features': [None, 1, 2, 3, 4, 5, 6, 7, 8, 9]}"
   ]
  },
  {
   "cell_type": "code",
   "execution_count": 67,
   "metadata": {},
   "outputs": [
    {
     "name": "stdout",
     "output_type": "stream",
     "text": [
      "0.8290295713180182\n",
      "array([0.82902957, 0.78142211, 0.79571006, 0.80275847, 0.80662312,\n",
      "       0.81117712, 0.81322278, 0.8164668 , 0.82116649, 0.81785879])\n",
      "[{'max_features': None, 'n_estimators': 212},\n",
      " {'max_features': 1, 'n_estimators': 212},\n",
      " {'max_features': 2, 'n_estimators': 212},\n",
      " {'max_features': 3, 'n_estimators': 212},\n",
      " {'max_features': 4, 'n_estimators': 212},\n",
      " {'max_features': 5, 'n_estimators': 212},\n",
      " {'max_features': 6, 'n_estimators': 212},\n",
      " {'max_features': 7, 'n_estimators': 212},\n",
      " {'max_features': 8, 'n_estimators': 212},\n",
      " {'max_features': 9, 'n_estimators': 212}]\n"
     ]
    }
   ],
   "source": [
    "search = RandomizedSearchCV(clf, param_distributions=param_grid, cv=5, n_jobs=1, scoring='roc_auc')\n",
    "search.fit(X_train, y_train)\n",
    "print(search.best_score_)\n",
    "pprint(search.cv_results_['mean_test_score'])\n",
    "pprint(search.cv_results_['params'])"
   ]
  },
  {
   "cell_type": "code",
   "execution_count": 68,
   "metadata": {},
   "outputs": [
    {
     "name": "stdout",
     "output_type": "stream",
     "text": [
      "{'n_estimators': 212, 'max_features': None}\n"
     ]
    }
   ],
   "source": [
    "print(search.best_params_)"
   ]
  },
  {
   "cell_type": "markdown",
   "metadata": {},
   "source": [
    "<p> _Tuning 4 </p>"
   ]
  },
  {
   "cell_type": "code",
   "execution_count": 69,
   "metadata": {},
   "outputs": [],
   "source": [
    "param_grid = {'n_estimators': [212], 'max_features': [None, 13, 17, 21]}"
   ]
  },
  {
   "cell_type": "code",
   "execution_count": 70,
   "metadata": {},
   "outputs": [
    {
     "name": "stdout",
     "output_type": "stream",
     "text": [
      "0.8295157271642613\n",
      "array([0.82902957, 0.82437433, 0.82726387, 0.82951573])\n",
      "[{'max_features': None, 'n_estimators': 212},\n",
      " {'max_features': 13, 'n_estimators': 212},\n",
      " {'max_features': 17, 'n_estimators': 212},\n",
      " {'max_features': 21, 'n_estimators': 212}]\n"
     ]
    }
   ],
   "source": [
    "search = GridSearchCV(clf, param_grid=param_grid, cv=5, n_jobs=1, scoring='roc_auc')\n",
    "search.fit(X_train, y_train)\n",
    "print(search.best_score_)\n",
    "pprint(search.cv_results_['mean_test_score'])\n",
    "pprint(search.cv_results_['params'])"
   ]
  },
  {
   "cell_type": "code",
   "execution_count": 71,
   "metadata": {},
   "outputs": [
    {
     "name": "stdout",
     "output_type": "stream",
     "text": [
      "{'max_features': 21, 'n_estimators': 212}\n"
     ]
    }
   ],
   "source": [
    "print(search.best_params_)"
   ]
  },
  {
   "cell_type": "markdown",
   "metadata": {},
   "source": [
    "<p> _Tuning 5 </p>"
   ]
  },
  {
   "cell_type": "code",
   "execution_count": 72,
   "metadata": {},
   "outputs": [],
   "source": [
    "param_grid = {'n_estimators': [212], 'max_features': [21],\n",
    "             'min_samples_split': randint(2,14)}"
   ]
  },
  {
   "cell_type": "code",
   "execution_count": 73,
   "metadata": {},
   "outputs": [
    {
     "name": "stdout",
     "output_type": "stream",
     "text": [
      "0.8336583552885486\n",
      "array([0.83365836, 0.83324113, 0.83163644, 0.83102527, 0.83344478,\n",
      "       0.83163644, 0.82864758, 0.83106408, 0.82951573, 0.83174636])\n",
      "[{'max_features': 21, 'min_samples_split': 13, 'n_estimators': 212},\n",
      " {'max_features': 21, 'min_samples_split': 11, 'n_estimators': 212},\n",
      " {'max_features': 21, 'min_samples_split': 9, 'n_estimators': 212},\n",
      " {'max_features': 21, 'min_samples_split': 4, 'n_estimators': 212},\n",
      " {'max_features': 21, 'min_samples_split': 12, 'n_estimators': 212},\n",
      " {'max_features': 21, 'min_samples_split': 9, 'n_estimators': 212},\n",
      " {'max_features': 21, 'min_samples_split': 3, 'n_estimators': 212},\n",
      " {'max_features': 21, 'min_samples_split': 6, 'n_estimators': 212},\n",
      " {'max_features': 21, 'min_samples_split': 2, 'n_estimators': 212},\n",
      " {'max_features': 21, 'min_samples_split': 7, 'n_estimators': 212}]\n"
     ]
    }
   ],
   "source": [
    "search = RandomizedSearchCV(clf, param_distributions=param_grid, cv=5, n_jobs=1, scoring='roc_auc')\n",
    "search.fit(X_train, y_train)\n",
    "print(search.best_score_)\n",
    "pprint(search.cv_results_['mean_test_score'])\n",
    "pprint(search.cv_results_['params'])"
   ]
  },
  {
   "cell_type": "code",
   "execution_count": 74,
   "metadata": {},
   "outputs": [
    {
     "name": "stdout",
     "output_type": "stream",
     "text": [
      "{'max_features': 21, 'min_samples_split': 13, 'n_estimators': 212}\n"
     ]
    }
   ],
   "source": [
    "print(search.best_params_)"
   ]
  },
  {
   "cell_type": "markdown",
   "metadata": {},
   "source": [
    "<p> _Tuning 6 </p>"
   ]
  },
  {
   "cell_type": "code",
   "execution_count": 101,
   "metadata": {},
   "outputs": [],
   "source": [
    "param_grid = {'n_estimators': [212], 'max_features': [21],\n",
    "             'min_samples_split': randint(13, 30)}"
   ]
  },
  {
   "cell_type": "code",
   "execution_count": 102,
   "metadata": {},
   "outputs": [
    {
     "name": "stdout",
     "output_type": "stream",
     "text": [
      "0.8360220950705693\n",
      "array([0.83413186, 0.83275183, 0.8360221 , 0.83511743, 0.83511743,\n",
      "       0.83557941, 0.83466353, 0.83549604, 0.83549604, 0.8360221 ])\n",
      "[{'max_features': 21, 'min_samples_split': 17, 'n_estimators': 212},\n",
      " {'max_features': 21, 'min_samples_split': 14, 'n_estimators': 212},\n",
      " {'max_features': 21, 'min_samples_split': 29, 'n_estimators': 212},\n",
      " {'max_features': 21, 'min_samples_split': 27, 'n_estimators': 212},\n",
      " {'max_features': 21, 'min_samples_split': 27, 'n_estimators': 212},\n",
      " {'max_features': 21, 'min_samples_split': 25, 'n_estimators': 212},\n",
      " {'max_features': 21, 'min_samples_split': 21, 'n_estimators': 212},\n",
      " {'max_features': 21, 'min_samples_split': 24, 'n_estimators': 212},\n",
      " {'max_features': 21, 'min_samples_split': 24, 'n_estimators': 212},\n",
      " {'max_features': 21, 'min_samples_split': 29, 'n_estimators': 212}]\n"
     ]
    }
   ],
   "source": [
    "search = RandomizedSearchCV(clf, param_distributions=param_grid, cv=5, n_jobs=1, scoring='roc_auc')\n",
    "search.fit(X_train, y_train)\n",
    "print(search.best_score_)\n",
    "pprint(search.cv_results_['mean_test_score'])\n",
    "pprint(search.cv_results_['params'])"
   ]
  },
  {
   "cell_type": "code",
   "execution_count": 103,
   "metadata": {},
   "outputs": [
    {
     "name": "stdout",
     "output_type": "stream",
     "text": [
      "{'max_features': 21, 'min_samples_split': 29, 'n_estimators': 212}\n"
     ]
    }
   ],
   "source": [
    "print(search.best_params_)"
   ]
  },
  {
   "cell_type": "markdown",
   "metadata": {},
   "source": [
    "<p> _Tuning 7 </p>"
   ]
  },
  {
   "cell_type": "code",
   "execution_count": 104,
   "metadata": {},
   "outputs": [],
   "source": [
    "param_grid = {'n_estimators': [212], 'max_features': [21],\n",
    "             'min_samples_split': [29], 'max_depth': [None, 9, 10, 11, 12, 13, 14, 15]}"
   ]
  },
  {
   "cell_type": "code",
   "execution_count": 105,
   "metadata": {},
   "outputs": [
    {
     "name": "stdout",
     "output_type": "stream",
     "text": [
      "0.8360220950705693\n",
      "array([0.8360221 , 0.83307303, 0.8333889 , 0.83388311, 0.83405733,\n",
      "       0.83502195, 0.83476357, 0.83561359])\n",
      "[{'max_depth': None,\n",
      "  'max_features': 21,\n",
      "  'min_samples_split': 29,\n",
      "  'n_estimators': 212},\n",
      " {'max_depth': 9,\n",
      "  'max_features': 21,\n",
      "  'min_samples_split': 29,\n",
      "  'n_estimators': 212},\n",
      " {'max_depth': 10,\n",
      "  'max_features': 21,\n",
      "  'min_samples_split': 29,\n",
      "  'n_estimators': 212},\n",
      " {'max_depth': 11,\n",
      "  'max_features': 21,\n",
      "  'min_samples_split': 29,\n",
      "  'n_estimators': 212},\n",
      " {'max_depth': 12,\n",
      "  'max_features': 21,\n",
      "  'min_samples_split': 29,\n",
      "  'n_estimators': 212},\n",
      " {'max_depth': 13,\n",
      "  'max_features': 21,\n",
      "  'min_samples_split': 29,\n",
      "  'n_estimators': 212},\n",
      " {'max_depth': 14,\n",
      "  'max_features': 21,\n",
      "  'min_samples_split': 29,\n",
      "  'n_estimators': 212},\n",
      " {'max_depth': 15,\n",
      "  'max_features': 21,\n",
      "  'min_samples_split': 29,\n",
      "  'n_estimators': 212}]\n"
     ]
    }
   ],
   "source": [
    "search = GridSearchCV(clf, param_grid=param_grid, cv=5, n_jobs=1, scoring='roc_auc')\n",
    "search.fit(X_train, y_train)\n",
    "print(search.best_score_)\n",
    "pprint(search.cv_results_['mean_test_score'])\n",
    "pprint(search.cv_results_['params'])"
   ]
  },
  {
   "cell_type": "code",
   "execution_count": 106,
   "metadata": {},
   "outputs": [
    {
     "name": "stdout",
     "output_type": "stream",
     "text": [
      "{'max_depth': None, 'max_features': 21, 'min_samples_split': 29, 'n_estimators': 212}\n"
     ]
    }
   ],
   "source": [
    "print(search.best_params_)"
   ]
  },
  {
   "cell_type": "markdown",
   "metadata": {},
   "source": [
    "<p> _Tuning 8 </p>"
   ]
  },
  {
   "cell_type": "code",
   "execution_count": 107,
   "metadata": {},
   "outputs": [],
   "source": [
    "param_grid = {'n_estimators': [212], 'max_features': [21],\n",
    "             'min_samples_split': [29], 'max_depth': [None],\n",
    "             'max_leaf_nodes': [None, 6, 7, 8]}"
   ]
  },
  {
   "cell_type": "code",
   "execution_count": 108,
   "metadata": {},
   "outputs": [
    {
     "name": "stdout",
     "output_type": "stream",
     "text": [
      "0.8360220950705693\n",
      "array([0.8360221 , 0.82014823, 0.82145265, 0.8228135 ])\n",
      "[{'max_depth': None,\n",
      "  'max_features': 21,\n",
      "  'max_leaf_nodes': None,\n",
      "  'min_samples_split': 29,\n",
      "  'n_estimators': 212},\n",
      " {'max_depth': None,\n",
      "  'max_features': 21,\n",
      "  'max_leaf_nodes': 6,\n",
      "  'min_samples_split': 29,\n",
      "  'n_estimators': 212},\n",
      " {'max_depth': None,\n",
      "  'max_features': 21,\n",
      "  'max_leaf_nodes': 7,\n",
      "  'min_samples_split': 29,\n",
      "  'n_estimators': 212},\n",
      " {'max_depth': None,\n",
      "  'max_features': 21,\n",
      "  'max_leaf_nodes': 8,\n",
      "  'min_samples_split': 29,\n",
      "  'n_estimators': 212}]\n"
     ]
    }
   ],
   "source": [
    "search = GridSearchCV(clf, param_grid=param_grid, cv=5, n_jobs=1, scoring='roc_auc')\n",
    "search.fit(X_train, y_train)\n",
    "print(search.best_score_)\n",
    "pprint(search.cv_results_['mean_test_score'])\n",
    "pprint(search.cv_results_['params'])"
   ]
  },
  {
   "cell_type": "code",
   "execution_count": 109,
   "metadata": {},
   "outputs": [
    {
     "name": "stdout",
     "output_type": "stream",
     "text": [
      "{'max_depth': None, 'max_features': 21, 'max_leaf_nodes': None, 'min_samples_split': 29, 'n_estimators': 212}\n"
     ]
    }
   ],
   "source": [
    "print(search.best_params_)"
   ]
  },
  {
   "cell_type": "markdown",
   "metadata": {},
   "source": [
    "<p> _Tuned model </p>"
   ]
  },
  {
   "cell_type": "code",
   "execution_count": 22,
   "metadata": {},
   "outputs": [],
   "source": [
    "ExtraTreesClassifier_clf = ExtraTreesClassifier(max_depth=None, max_features=21,\n",
    "                             max_leaf_nodes=None, min_samples_split=29,\n",
    "                             n_estimators=212, random_state=42)"
   ]
  },
  {
   "cell_type": "code",
   "execution_count": 79,
   "metadata": {},
   "outputs": [
    {
     "data": {
      "text/plain": [
       "ExtraTreesClassifier(max_features=21, min_samples_split=29, n_estimators=212,\n",
       "                     random_state=42)"
      ]
     },
     "execution_count": 79,
     "metadata": {},
     "output_type": "execute_result"
    }
   ],
   "source": [
    "ExtraTreesClassifier_clf.fit(X_train, y_train)"
   ]
  },
  {
   "cell_type": "code",
   "execution_count": 80,
   "metadata": {},
   "outputs": [
    {
     "data": {
      "text/plain": [
       "((991, 70), (991,))"
      ]
     },
     "execution_count": 80,
     "metadata": {},
     "output_type": "execute_result"
    }
   ],
   "source": [
    "X_test.shape, y_test.shape"
   ]
  },
  {
   "cell_type": "code",
   "execution_count": 81,
   "metadata": {},
   "outputs": [
    {
     "name": "stdout",
     "output_type": "stream",
     "text": [
      "0.9752748806304973\n"
     ]
    },
    {
     "data": {
      "text/plain": [
       "0.8340772584265768"
      ]
     },
     "execution_count": 81,
     "metadata": {},
     "output_type": "execute_result"
    }
   ],
   "source": [
    "print(roc_auc_score(y_train-1, ExtraTreesClassifier_clf.predict_proba(X_train)[:, 1]))\n",
    "roc_auc_score(y_test-1, ExtraTreesClassifier_clf.predict_proba(X_test)[:, 1])"
   ]
  },
  {
   "cell_type": "code",
   "execution_count": 83,
   "metadata": {},
   "outputs": [
    {
     "data": {
      "text/html": [
       "<div>\n",
       "<style scoped>\n",
       "    .dataframe tbody tr th:only-of-type {\n",
       "        vertical-align: middle;\n",
       "    }\n",
       "\n",
       "    .dataframe tbody tr th {\n",
       "        vertical-align: top;\n",
       "    }\n",
       "\n",
       "    .dataframe thead th {\n",
       "        text-align: right;\n",
       "    }\n",
       "</style>\n",
       "<table border=\"1\" class=\"dataframe\">\n",
       "  <thead>\n",
       "    <tr style=\"text-align: right;\">\n",
       "      <th></th>\n",
       "      <th>ROC_AUC train</th>\n",
       "      <th>ROC_AUC val</th>\n",
       "      <th>ROC_AUC test</th>\n",
       "    </tr>\n",
       "  </thead>\n",
       "  <tbody>\n",
       "    <tr>\n",
       "      <th>ExtraTreesClassifier</th>\n",
       "      <td>0.98</td>\n",
       "      <td>0.84</td>\n",
       "      <td>0.83</td>\n",
       "    </tr>\n",
       "  </tbody>\n",
       "</table>\n",
       "</div>"
      ],
      "text/plain": [
       "                      ROC_AUC train  ROC_AUC val  ROC_AUC test\n",
       "ExtraTreesClassifier           0.98         0.84          0.83"
      ]
     },
     "execution_count": 83,
     "metadata": {},
     "output_type": "execute_result"
    }
   ],
   "source": [
    "data_ExtraTreesClassifier = {'ROC_AUC train': [0.98], 'ROC_AUC val': [0.84], 'ROC_AUC test': [0.83]}\n",
    "data_ExtraTreesClassifier = pd.DataFrame(data_ExtraTreesClassifier, index=['ExtraTreesClassifier'])\n",
    "data_ExtraTreesClassifier"
   ]
  },
  {
   "cell_type": "markdown",
   "metadata": {},
   "source": [
    "Similar as in KNeighborsClassifier we have an overfitting."
   ]
  },
  {
   "cell_type": "markdown",
   "metadata": {},
   "source": [
    "It's time to combine our models in even better model."
   ]
  },
  {
   "cell_type": "markdown",
   "metadata": {},
   "source": [
    "<p> VotingClassifier </p>"
   ]
  },
  {
   "cell_type": "code",
   "execution_count": 23,
   "metadata": {},
   "outputs": [
    {
     "data": {
      "text/plain": [
       "VotingClassifier(estimators=[('SVC_clf',\n",
       "                              SVC(C=0.01, class_weight='balanced',\n",
       "                                  kernel='linear', probability=True,\n",
       "                                  random_state=42)),\n",
       "                             ('RandomForestClassifier_clf',\n",
       "                              RandomForestClassifier(max_depth=10,\n",
       "                                                     max_features=17,\n",
       "                                                     max_leaf_nodes=8,\n",
       "                                                     max_samples=0.8,\n",
       "                                                     min_samples_split=12,\n",
       "                                                     n_estimators=238,\n",
       "                                                     random_state=42)),\n",
       "                             ('ExtraTreesClassifier_clf',\n",
       "                              ExtraTreesClassifier(max_features=21,\n",
       "                                                   min_samples_split=29,\n",
       "                                                   n_estimators=212,\n",
       "                                                   random_state=42))],\n",
       "                 voting='soft')"
      ]
     },
     "execution_count": 23,
     "metadata": {},
     "output_type": "execute_result"
    }
   ],
   "source": [
    "voting_clf = VotingClassifier( estimators=[('SVC_clf', SVC_clf), ('RandomForestClassifier_clf', RandomForestClassifier_clf),\n",
    "                                          ('ExtraTreesClassifier_clf', ExtraTreesClassifier_clf)], voting='soft')\n",
    "\n",
    "voting_clf.fit(X_train, y_train)"
   ]
  },
  {
   "cell_type": "code",
   "execution_count": 24,
   "metadata": {},
   "outputs": [
    {
     "name": "stdout",
     "output_type": "stream",
     "text": [
      "0.9091484916841118\n"
     ]
    },
    {
     "data": {
      "text/plain": [
       "0.8372927482470813"
      ]
     },
     "execution_count": 24,
     "metadata": {},
     "output_type": "execute_result"
    }
   ],
   "source": [
    "voting_clf.fit(X_train, y_train)\n",
    "print(roc_auc_score(y_train-1, voting_clf.predict_proba(X_train)[:, 1]))\n",
    "roc_auc_score(y_test-1, voting_clf.predict_proba(X_test)[:, 1])"
   ]
  },
  {
   "cell_type": "markdown",
   "metadata": {},
   "source": [
    "It's the VotingClassifier for the best combination of our models."
   ]
  },
  {
   "cell_type": "code",
   "execution_count": 128,
   "metadata": {},
   "outputs": [
    {
     "data": {
      "text/html": [
       "<div>\n",
       "<style scoped>\n",
       "    .dataframe tbody tr th:only-of-type {\n",
       "        vertical-align: middle;\n",
       "    }\n",
       "\n",
       "    .dataframe tbody tr th {\n",
       "        vertical-align: top;\n",
       "    }\n",
       "\n",
       "    .dataframe thead th {\n",
       "        text-align: right;\n",
       "    }\n",
       "</style>\n",
       "<table border=\"1\" class=\"dataframe\">\n",
       "  <thead>\n",
       "    <tr style=\"text-align: right;\">\n",
       "      <th></th>\n",
       "      <th>ROC_AUC train</th>\n",
       "      <th>ROC_AUC test</th>\n",
       "    </tr>\n",
       "  </thead>\n",
       "  <tbody>\n",
       "    <tr>\n",
       "      <th>voting_clf</th>\n",
       "      <td>0.91</td>\n",
       "      <td>0.84</td>\n",
       "    </tr>\n",
       "  </tbody>\n",
       "</table>\n",
       "</div>"
      ],
      "text/plain": [
       "            ROC_AUC train  ROC_AUC test\n",
       "voting_clf           0.91          0.84"
      ]
     },
     "execution_count": 128,
     "metadata": {},
     "output_type": "execute_result"
    }
   ],
   "source": [
    "data_voting_clf = {'ROC_AUC train': [0.91], 'ROC_AUC test': [0.84]}\n",
    "data_voting_clf = pd.DataFrame(data_voting_clf, index=['voting_clf'])\n",
    "data_voting_clf"
   ]
  },
  {
   "cell_type": "markdown",
   "metadata": {},
   "source": [
    "We have a small overfitting."
   ]
  },
  {
   "cell_type": "markdown",
   "metadata": {},
   "source": [
    "<p> Bagging </p>\n",
    "\n",
    "Note: [2] Overall, bagging often results in better models, which explains why it is generally preferred."
   ]
  },
  {
   "cell_type": "code",
   "execution_count": 47,
   "metadata": {},
   "outputs": [],
   "source": [
    "bag_clf = BaggingClassifier(max_samples=100, bootstrap=True, n_jobs=-1, random_state=42)"
   ]
  },
  {
   "cell_type": "code",
   "execution_count": 48,
   "metadata": {},
   "outputs": [],
   "source": [
    "param_grid = {'base_estimator': [DecisionTreeClassifier(class_weight='balanced'),\n",
    "                            ExtraTreeClassifier(class_weight='balanced'),\n",
    "                            LinearSVC(class_weight='balanced'),\n",
    "                            KNeighborsClassifier(p=2),\n",
    "                            SVC(class_weight='balanced')],\n",
    "             'n_estimators': [500, 1000, 1500]}"
   ]
  },
  {
   "cell_type": "code",
   "execution_count": 49,
   "metadata": {},
   "outputs": [
    {
     "name": "stdout",
     "output_type": "stream",
     "text": [
      "0.8313743607462666\n",
      "array([0.83019188, 0.83045508, 0.83051463, 0.80944311, 0.80949471,\n",
      "       0.80981092, 0.83091638, 0.83131617, 0.83137436, 0.79556431,\n",
      "       0.79526636, 0.79505871, 0.80289523, 0.80244861, 0.8020835 ])\n",
      "[{'base_estimator': DecisionTreeClassifier(class_weight='balanced'),\n",
      "  'n_estimators': 500},\n",
      " {'base_estimator': DecisionTreeClassifier(class_weight='balanced'),\n",
      "  'n_estimators': 1000},\n",
      " {'base_estimator': DecisionTreeClassifier(class_weight='balanced'),\n",
      "  'n_estimators': 1500},\n",
      " {'base_estimator': ExtraTreeClassifier(class_weight='balanced'),\n",
      "  'n_estimators': 500},\n",
      " {'base_estimator': ExtraTreeClassifier(class_weight='balanced'),\n",
      "  'n_estimators': 1000},\n",
      " {'base_estimator': ExtraTreeClassifier(class_weight='balanced'),\n",
      "  'n_estimators': 1500},\n",
      " {'base_estimator': LinearSVC(class_weight='balanced'), 'n_estimators': 500},\n",
      " {'base_estimator': LinearSVC(class_weight='balanced'), 'n_estimators': 1000},\n",
      " {'base_estimator': LinearSVC(class_weight='balanced'), 'n_estimators': 1500},\n",
      " {'base_estimator': KNeighborsClassifier(), 'n_estimators': 500},\n",
      " {'base_estimator': KNeighborsClassifier(), 'n_estimators': 1000},\n",
      " {'base_estimator': KNeighborsClassifier(), 'n_estimators': 1500},\n",
      " {'base_estimator': SVC(class_weight='balanced'), 'n_estimators': 500},\n",
      " {'base_estimator': SVC(class_weight='balanced'), 'n_estimators': 1000},\n",
      " {'base_estimator': SVC(class_weight='balanced'), 'n_estimators': 1500}]\n"
     ]
    }
   ],
   "source": [
    "search = GridSearchCV(bag_clf, param_grid=param_grid, cv=5, n_jobs=1, scoring='roc_auc')\n",
    "search.fit(X_train, y_train)\n",
    "print(search.best_score_)\n",
    "pprint(search.cv_results_['mean_test_score'])\n",
    "pprint(search.cv_results_['params'])"
   ]
  },
  {
   "cell_type": "code",
   "execution_count": 50,
   "metadata": {},
   "outputs": [
    {
     "name": "stdout",
     "output_type": "stream",
     "text": [
      "{'base_estimator': LinearSVC(class_weight='balanced'), 'n_estimators': 1500}\n"
     ]
    }
   ],
   "source": [
    "print(search.best_params_)"
   ]
  },
  {
   "cell_type": "markdown",
   "metadata": {},
   "source": [
    "It doesn't look like there is a space to improve it significantly."
   ]
  },
  {
   "cell_type": "code",
   "execution_count": 53,
   "metadata": {},
   "outputs": [
    {
     "name": "stdout",
     "output_type": "stream",
     "text": [
      "0.8493124906483629\n"
     ]
    },
    {
     "data": {
      "text/plain": [
       "0.8358865131436397"
      ]
     },
     "execution_count": 53,
     "metadata": {},
     "output_type": "execute_result"
    }
   ],
   "source": [
    "bag_clf = BaggingClassifier(LinearSVC(class_weight='balanced'), n_estimators=1500,\n",
    "                            max_samples=100, bootstrap=True, n_jobs=-1, random_state=42)\n",
    "bag_clf.fit(X_train, y_train)\n",
    "print(roc_auc_score(y_train-1, bag_clf.predict_proba(X_train)[:, 1]))\n",
    "roc_auc_score(y_test-1, bag_clf.predict_proba(X_test)[:, 1])"
   ]
  },
  {
   "cell_type": "code",
   "execution_count": 54,
   "metadata": {},
   "outputs": [
    {
     "data": {
      "text/html": [
       "<div>\n",
       "<style scoped>\n",
       "    .dataframe tbody tr th:only-of-type {\n",
       "        vertical-align: middle;\n",
       "    }\n",
       "\n",
       "    .dataframe tbody tr th {\n",
       "        vertical-align: top;\n",
       "    }\n",
       "\n",
       "    .dataframe thead th {\n",
       "        text-align: right;\n",
       "    }\n",
       "</style>\n",
       "<table border=\"1\" class=\"dataframe\">\n",
       "  <thead>\n",
       "    <tr style=\"text-align: right;\">\n",
       "      <th></th>\n",
       "      <th>ROC_AUC train</th>\n",
       "      <th>ROC_AUC val</th>\n",
       "      <th>ROC_AUC test</th>\n",
       "    </tr>\n",
       "  </thead>\n",
       "  <tbody>\n",
       "    <tr>\n",
       "      <th>bag_clf</th>\n",
       "      <td>0.85</td>\n",
       "      <td>0.83</td>\n",
       "      <td>0.84</td>\n",
       "    </tr>\n",
       "  </tbody>\n",
       "</table>\n",
       "</div>"
      ],
      "text/plain": [
       "         ROC_AUC train  ROC_AUC val  ROC_AUC test\n",
       "bag_clf           0.85         0.83          0.84"
      ]
     },
     "execution_count": 54,
     "metadata": {},
     "output_type": "execute_result"
    }
   ],
   "source": [
    "data_bag_clf = {'ROC_AUC train': [0.85], 'ROC_AUC val': [0.83], 'ROC_AUC test': [0.84]}\n",
    "data_bag_clf = pd.DataFrame(data_bag_clf, index=['bag_clf'])\n",
    "data_bag_clf"
   ]
  },
  {
   "cell_type": "markdown",
   "metadata": {},
   "source": [
    "<p> GradientBoostingClassifier </p>"
   ]
  },
  {
   "cell_type": "code",
   "execution_count": 110,
   "metadata": {},
   "outputs": [],
   "source": [
    "gbrt = GradientBoostingClassifier()"
   ]
  },
  {
   "cell_type": "markdown",
   "metadata": {},
   "source": [
    "<p> _Tuning 1 </p>"
   ]
  },
  {
   "cell_type": "code",
   "execution_count": 111,
   "metadata": {},
   "outputs": [],
   "source": [
    "param_grid = {'learning_rate': [0.001, 0.01, 0.1], 'n_estimators': randint(2, 50)}"
   ]
  },
  {
   "cell_type": "code",
   "execution_count": 112,
   "metadata": {},
   "outputs": [
    {
     "name": "stdout",
     "output_type": "stream",
     "text": [
      "0.8405539345746049\n",
      "array([0.84055393, 0.82324249, 0.82317412, 0.83793058, 0.82774957,\n",
      "       0.82542887, 0.83744662, 0.83328077, 0.83968828, 0.83875466])\n",
      "[{'learning_rate': 0.1, 'n_estimators': 34},\n",
      " {'learning_rate': 0.001, 'n_estimators': 11},\n",
      " {'learning_rate': 0.01, 'n_estimators': 2},\n",
      " {'learning_rate': 0.1, 'n_estimators': 9},\n",
      " {'learning_rate': 0.001, 'n_estimators': 46},\n",
      " {'learning_rate': 0.001, 'n_estimators': 28},\n",
      " {'learning_rate': 0.01, 'n_estimators': 47},\n",
      " {'learning_rate': 0.01, 'n_estimators': 20},\n",
      " {'learning_rate': 0.1, 'n_estimators': 13},\n",
      " {'learning_rate': 0.1, 'n_estimators': 10}]\n"
     ]
    }
   ],
   "source": [
    "search = RandomizedSearchCV(gbrt, param_distributions=param_grid, cv=5, n_jobs=1, scoring='roc_auc')\n",
    "search.fit(X_train, y_train)\n",
    "print(search.best_score_)\n",
    "pprint(search.cv_results_['mean_test_score'])\n",
    "pprint(search.cv_results_['params'])"
   ]
  },
  {
   "cell_type": "code",
   "execution_count": 115,
   "metadata": {},
   "outputs": [
    {
     "name": "stdout",
     "output_type": "stream",
     "text": [
      "{'learning_rate': 0.1, 'n_estimators': 34}\n"
     ]
    }
   ],
   "source": [
    "print(search.best_params_)"
   ]
  },
  {
   "cell_type": "markdown",
   "metadata": {},
   "source": [
    "<p> _Tuninig 2 </p>"
   ]
  },
  {
   "cell_type": "code",
   "execution_count": 116,
   "metadata": {},
   "outputs": [],
   "source": [
    "param_grid = {'learning_rate': [0.07, 0.1, 0.03], 'n_estimators': randint(25, 75)}"
   ]
  },
  {
   "cell_type": "code",
   "execution_count": 117,
   "metadata": {},
   "outputs": [
    {
     "name": "stdout",
     "output_type": "stream",
     "text": [
      "0.8415195384040368\n",
      "array([0.84151954, 0.84043569, 0.83911668, 0.84007814, 0.84030442,\n",
      "       0.84118862, 0.83935571, 0.84047731, 0.84064068, 0.8393813 ])\n",
      "[{'learning_rate': 0.07, 'n_estimators': 40},\n",
      " {'learning_rate': 0.07, 'n_estimators': 25},\n",
      " {'learning_rate': 0.1, 'n_estimators': 56},\n",
      " {'learning_rate': 0.03, 'n_estimators': 53},\n",
      " {'learning_rate': 0.03, 'n_estimators': 68},\n",
      " {'learning_rate': 0.07, 'n_estimators': 37},\n",
      " {'learning_rate': 0.03, 'n_estimators': 40},\n",
      " {'learning_rate': 0.07, 'n_estimators': 73},\n",
      " {'learning_rate': 0.07, 'n_estimators': 28},\n",
      " {'learning_rate': 0.03, 'n_estimators': 39}]\n"
     ]
    }
   ],
   "source": [
    "search = RandomizedSearchCV(gbrt, param_distributions=param_grid, cv=5, n_jobs=1, scoring='roc_auc')\n",
    "search.fit(X_train, y_train)\n",
    "print(search.best_score_)\n",
    "pprint(search.cv_results_['mean_test_score'])\n",
    "pprint(search.cv_results_['params'])"
   ]
  },
  {
   "cell_type": "code",
   "execution_count": 118,
   "metadata": {},
   "outputs": [
    {
     "name": "stdout",
     "output_type": "stream",
     "text": [
      "{'learning_rate': 0.07, 'n_estimators': 40}\n"
     ]
    }
   ],
   "source": [
    "print(search.best_params_)"
   ]
  },
  {
   "cell_type": "markdown",
   "metadata": {},
   "source": [
    "<p> _Tuning 3 </p>"
   ]
  },
  {
   "cell_type": "code",
   "execution_count": 119,
   "metadata": {},
   "outputs": [],
   "source": [
    "param_grid = {'learning_rate': [0.07], 'n_estimators': [40],\n",
    "             'max_depth': [5, 10, 15], 'min_samples_split': [10, 12, 14],\n",
    "             'max_leaf_nodes': [5, 8, 11]}"
   ]
  },
  {
   "cell_type": "code",
   "execution_count": 120,
   "metadata": {},
   "outputs": [
    {
     "name": "stdout",
     "output_type": "stream",
     "text": [
      "0.8429503848674533\n",
      "array([0.84295038, 0.8379763 , 0.84295038, 0.83862897, 0.84295038,\n",
      "       0.84104217, 0.84103404, 0.83795055, 0.84245627, 0.83891587])\n",
      "[{'learning_rate': 0.07,\n",
      "  'max_depth': 15,\n",
      "  'max_leaf_nodes': 8,\n",
      "  'min_samples_split': 10,\n",
      "  'n_estimators': 40},\n",
      " {'learning_rate': 0.07,\n",
      "  'max_depth': 15,\n",
      "  'max_leaf_nodes': 11,\n",
      "  'min_samples_split': 10,\n",
      "  'n_estimators': 40},\n",
      " {'learning_rate': 0.07,\n",
      "  'max_depth': 10,\n",
      "  'max_leaf_nodes': 8,\n",
      "  'min_samples_split': 10,\n",
      "  'n_estimators': 40},\n",
      " {'learning_rate': 0.07,\n",
      "  'max_depth': 15,\n",
      "  'max_leaf_nodes': 11,\n",
      "  'min_samples_split': 14,\n",
      "  'n_estimators': 40},\n",
      " {'learning_rate': 0.07,\n",
      "  'max_depth': 15,\n",
      "  'max_leaf_nodes': 8,\n",
      "  'min_samples_split': 12,\n",
      "  'n_estimators': 40},\n",
      " {'learning_rate': 0.07,\n",
      "  'max_depth': 5,\n",
      "  'max_leaf_nodes': 5,\n",
      "  'min_samples_split': 10,\n",
      "  'n_estimators': 40},\n",
      " {'learning_rate': 0.07,\n",
      "  'max_depth': 5,\n",
      "  'max_leaf_nodes': 5,\n",
      "  'min_samples_split': 14,\n",
      "  'n_estimators': 40},\n",
      " {'learning_rate': 0.07,\n",
      "  'max_depth': 10,\n",
      "  'max_leaf_nodes': 11,\n",
      "  'min_samples_split': 10,\n",
      "  'n_estimators': 40},\n",
      " {'learning_rate': 0.07,\n",
      "  'max_depth': 10,\n",
      "  'max_leaf_nodes': 8,\n",
      "  'min_samples_split': 14,\n",
      "  'n_estimators': 40},\n",
      " {'learning_rate': 0.07,\n",
      "  'max_depth': 5,\n",
      "  'max_leaf_nodes': 11,\n",
      "  'min_samples_split': 12,\n",
      "  'n_estimators': 40}]\n"
     ]
    }
   ],
   "source": [
    "search = RandomizedSearchCV(gbrt, param_distributions=param_grid, cv=5, n_jobs=1, scoring='roc_auc')\n",
    "search.fit(X_train, y_train)\n",
    "print(search.best_score_)\n",
    "pprint(search.cv_results_['mean_test_score'])\n",
    "pprint(search.cv_results_['params'])"
   ]
  },
  {
   "cell_type": "code",
   "execution_count": 121,
   "metadata": {},
   "outputs": [
    {
     "name": "stdout",
     "output_type": "stream",
     "text": [
      "{'n_estimators': 40, 'min_samples_split': 10, 'max_leaf_nodes': 8, 'max_depth': 15, 'learning_rate': 0.07}\n"
     ]
    }
   ],
   "source": [
    "print(search.best_params_)"
   ]
  },
  {
   "cell_type": "markdown",
   "metadata": {},
   "source": [
    "We can stop here, since tuning didn't improve the model significantly."
   ]
  },
  {
   "cell_type": "markdown",
   "metadata": {},
   "source": [
    "<p> Tuned model </p>"
   ]
  },
  {
   "cell_type": "code",
   "execution_count": 105,
   "metadata": {},
   "outputs": [
    {
     "name": "stdout",
     "output_type": "stream",
     "text": [
      "0.8431848516603773\n"
     ]
    },
    {
     "data": {
      "text/plain": [
       "0.8338735818476498"
      ]
     },
     "execution_count": 105,
     "metadata": {},
     "output_type": "execute_result"
    }
   ],
   "source": [
    "print(roc_auc_score(y_train-1, gbrt.predict_proba(X_train)[:, 1]))\n",
    "roc_auc_score(y_test-1, gbrt.predict_proba(X_test)[:, 1])"
   ]
  },
  {
   "cell_type": "code",
   "execution_count": 124,
   "metadata": {},
   "outputs": [
    {
     "data": {
      "text/plain": [
       "GradientBoostingClassifier(learning_rate=0.07, max_depth=15, max_leaf_nodes=8,\n",
       "                           min_samples_split=10, n_estimators=40)"
      ]
     },
     "execution_count": 124,
     "metadata": {},
     "output_type": "execute_result"
    }
   ],
   "source": [
    "gbrt = GradientBoostingClassifier(n_estimators=40, min_samples_split=10,\n",
    "                                  max_leaf_nodes=8, max_depth=15, learning_rate=0.07)\n",
    "\n",
    "gbrt.fit(X_train, y_train)"
   ]
  },
  {
   "cell_type": "code",
   "execution_count": 125,
   "metadata": {},
   "outputs": [
    {
     "name": "stdout",
     "output_type": "stream",
     "text": [
      "0.87258409844267\n"
     ]
    },
    {
     "data": {
      "text/plain": [
       "0.8397997035855745"
      ]
     },
     "execution_count": 125,
     "metadata": {},
     "output_type": "execute_result"
    }
   ],
   "source": [
    "print(roc_auc_score(y_train-1, gbrt.predict_proba(X_train)[:, 1]))\n",
    "roc_auc_score(y_test-1, gbrt.predict_proba(X_test)[:, 1])"
   ]
  },
  {
   "cell_type": "code",
   "execution_count": 126,
   "metadata": {},
   "outputs": [
    {
     "data": {
      "text/html": [
       "<div>\n",
       "<style scoped>\n",
       "    .dataframe tbody tr th:only-of-type {\n",
       "        vertical-align: middle;\n",
       "    }\n",
       "\n",
       "    .dataframe tbody tr th {\n",
       "        vertical-align: top;\n",
       "    }\n",
       "\n",
       "    .dataframe thead th {\n",
       "        text-align: right;\n",
       "    }\n",
       "</style>\n",
       "<table border=\"1\" class=\"dataframe\">\n",
       "  <thead>\n",
       "    <tr style=\"text-align: right;\">\n",
       "      <th></th>\n",
       "      <th>ROC_AUC train</th>\n",
       "      <th>ROC_AUC val</th>\n",
       "      <th>ROC_AUC test</th>\n",
       "    </tr>\n",
       "  </thead>\n",
       "  <tbody>\n",
       "    <tr>\n",
       "      <th>gbrt</th>\n",
       "      <td>0.87</td>\n",
       "      <td>0.84</td>\n",
       "      <td>0.84</td>\n",
       "    </tr>\n",
       "  </tbody>\n",
       "</table>\n",
       "</div>"
      ],
      "text/plain": [
       "      ROC_AUC train  ROC_AUC val  ROC_AUC test\n",
       "gbrt           0.87         0.84          0.84"
      ]
     },
     "execution_count": 126,
     "metadata": {},
     "output_type": "execute_result"
    }
   ],
   "source": [
    "data_gbrt = {'ROC_AUC train': [0.87], 'ROC_AUC val': [0.84], 'ROC_AUC test': [0.84]}\n",
    "data_gbrt = pd.DataFrame(data_gbrt, index=['gbrt'])\n",
    "data_gbrt"
   ]
  },
  {
   "cell_type": "markdown",
   "metadata": {},
   "source": [
    "<h3> Summary </h3>"
   ]
  },
  {
   "cell_type": "code",
   "execution_count": 133,
   "metadata": {},
   "outputs": [
    {
     "data": {
      "text/html": [
       "<div>\n",
       "<style scoped>\n",
       "    .dataframe tbody tr th:only-of-type {\n",
       "        vertical-align: middle;\n",
       "    }\n",
       "\n",
       "    .dataframe tbody tr th {\n",
       "        vertical-align: top;\n",
       "    }\n",
       "\n",
       "    .dataframe thead th {\n",
       "        text-align: right;\n",
       "    }\n",
       "</style>\n",
       "<table border=\"1\" class=\"dataframe\">\n",
       "  <thead>\n",
       "    <tr style=\"text-align: right;\">\n",
       "      <th></th>\n",
       "      <th>ROC_AUC train</th>\n",
       "      <th>ROC_AUC val</th>\n",
       "      <th>ROC_AUC test</th>\n",
       "    </tr>\n",
       "  </thead>\n",
       "  <tbody>\n",
       "    <tr>\n",
       "      <th>voting_clf</th>\n",
       "      <td>0.91</td>\n",
       "      <td>NaN</td>\n",
       "      <td>0.84</td>\n",
       "    </tr>\n",
       "    <tr>\n",
       "      <th>bag_clf</th>\n",
       "      <td>0.85</td>\n",
       "      <td>0.83</td>\n",
       "      <td>0.84</td>\n",
       "    </tr>\n",
       "    <tr>\n",
       "      <th>gbrt</th>\n",
       "      <td>0.87</td>\n",
       "      <td>0.84</td>\n",
       "      <td>0.84</td>\n",
       "    </tr>\n",
       "    <tr>\n",
       "      <th>LinearSVC</th>\n",
       "      <td>0.84</td>\n",
       "      <td>0.83</td>\n",
       "      <td>0.83</td>\n",
       "    </tr>\n",
       "    <tr>\n",
       "      <th>SVC</th>\n",
       "      <td>0.84</td>\n",
       "      <td>0.83</td>\n",
       "      <td>0.83</td>\n",
       "    </tr>\n",
       "    <tr>\n",
       "      <th>RandomForestClassifier</th>\n",
       "      <td>0.85</td>\n",
       "      <td>0.84</td>\n",
       "      <td>0.83</td>\n",
       "    </tr>\n",
       "    <tr>\n",
       "      <th>ExtraTreesClassifier</th>\n",
       "      <td>0.98</td>\n",
       "      <td>0.84</td>\n",
       "      <td>0.83</td>\n",
       "    </tr>\n",
       "    <tr>\n",
       "      <th>KNeighborsClassifier</th>\n",
       "      <td>1.00</td>\n",
       "      <td>0.79</td>\n",
       "      <td>0.79</td>\n",
       "    </tr>\n",
       "  </tbody>\n",
       "</table>\n",
       "</div>"
      ],
      "text/plain": [
       "                        ROC_AUC train  ROC_AUC val  ROC_AUC test\n",
       "voting_clf                       0.91          NaN          0.84\n",
       "bag_clf                          0.85         0.83          0.84\n",
       "gbrt                             0.87         0.84          0.84\n",
       "LinearSVC                        0.84         0.83          0.83\n",
       "SVC                              0.84         0.83          0.83\n",
       "RandomForestClassifier           0.85         0.84          0.83\n",
       "ExtraTreesClassifier             0.98         0.84          0.83\n",
       "KNeighborsClassifier             1.00         0.79          0.79"
      ]
     },
     "execution_count": 133,
     "metadata": {},
     "output_type": "execute_result"
    }
   ],
   "source": [
    "frames = [data_LinearSVC, data_KNeighborsClassifier, data_SVC, data_RandomForestClassifier, data_ExtraTreesClassifier, data_voting_clf, data_bag_clf, data_gbrt]\n",
    "\n",
    "pd.concat(frames).sort_values('ROC_AUC test', ascending=False)"
   ]
  },
  {
   "cell_type": "markdown",
   "metadata": {},
   "source": [
    "As we can see tuned models have pretty similar results. According to the scale described in [4], our models have excellent ability to choose a correct group.\n",
    "\n",
    "A good idea will be to reduce overfitting of the ExtraTreesClassifier, since despite of overfitting, it gets well results. The easiest way would be to reduce number of features, and random forests are very good in this topic, since we can use feature_importances_ attribute. This makes things much easier and doesn't require the use of pca or other algorithms."
   ]
  },
  {
   "cell_type": "code",
   "execution_count": 137,
   "metadata": {},
   "outputs": [
    {
     "name": "stdout",
     "output_type": "stream",
     "text": [
      "g1_1 0.05092278251689051\n",
      "g1_2 0.004364645731507293\n",
      "g1_3 0.005341910980068658\n",
      "g1_4 0.004897919505414438\n",
      "g1_5 0.01085329204410988\n",
      "g1_6 0.004588179328183236\n",
      "g1_7 0.00497130890733349\n",
      "g1_8 0.0056995740039556785\n",
      "g1_9 0.004757336192600709\n",
      "g1_10 0.0069364558673788435\n",
      "g1_11 0.006050028921446139\n",
      "g1_12 0.006031313449298834\n",
      "g1_13 0.007873432769503367\n",
      "g1_14 0.008253713364697324\n",
      "g1_15 0.006492338501890895\n",
      "g1_16 0.006710304358145443\n",
      "g1_17 0.005855414670318016\n",
      "g1_18 0.00565911686325835\n",
      "g1_19 0.005154215160456584\n",
      "g1_20 0.004948831811090038\n",
      "g1_21 0.006715639775781732\n",
      "g2_1 0.04370235292483372\n",
      "g2_2 0.004293177434232844\n",
      "g2_3 0.005092726741689534\n",
      "g2_4 0.004059000170266881\n",
      "g2_5 0.011578109158844458\n",
      "g2_6 0.004230322730055645\n",
      "g2_7 0.005073277831448983\n",
      "g2_8 0.004975957660925549\n",
      "g2_9 0.0057364438805555355\n",
      "g2_10 0.004839924297440937\n",
      "g2_11 0.009089662660901023\n",
      "g2_12 0.007505240165391503\n",
      "g2_13 0.007770090983051999\n",
      "g2_14 0.005662102528379887\n",
      "g2_15 0.006636432167660618\n",
      "g2_16 0.00889464284315365\n",
      "g2_17 0.007805874140950292\n",
      "g2_18 0.0044722042620708976\n",
      "g2_19 0.005407864933198942\n",
      "g2_20 0.005763329346798782\n",
      "g2_21 0.009356268567127563\n",
      "c_1 0.005961533796273266\n",
      "c_2 0.2351633134647368\n",
      "c_3 0.021476622152953595\n",
      "c_4 0.05787549807967328\n",
      "c_5 0.006448505890803603\n",
      "c_6 0.040852416903620827\n",
      "c_7 0.007054019777877268\n",
      "c_8 0.07072816261222624\n",
      "c_9 0.007518755393879716\n",
      "c_10 0.013597157870899722\n",
      "c_11 0.0059820534408341125\n",
      "c_12 0.019612157896234893\n",
      "c_13 0.005319619152106451\n",
      "c_14 0.005473177778749681\n",
      "c_15 0.005798946962873941\n",
      "c_16 0.00539344831903884\n",
      "c_17 0.015315684103592313\n",
      "c_18 0.006319488475308202\n",
      "c_19 0.018290168607283868\n",
      "c_20 0.027529864300888638\n",
      "c_21 0.01561000725287439\n",
      "c_22 0.006538808314932305\n",
      "c_23 0.005609934330148656\n",
      "c_24 0.0028937834830172764\n",
      "c_25 0.015778119488015992\n",
      "c_26 0.015544406088581444\n",
      "c_27 0.0057560494286381355\n",
      "c_28 0.0055355364816278944\n"
     ]
    }
   ],
   "source": [
    "for name, score in zip(df.columns, ExtraTreesClassifier_clf.feature_importances_):\n",
    "    print(name, score)"
   ]
  },
  {
   "cell_type": "markdown",
   "metadata": {},
   "source": [
    "I assume that the obtained results are satisfactory and I will proceed to the next points of the task."
   ]
  },
  {
   "cell_type": "markdown",
   "metadata": {},
   "source": [
    "<h2> By how much do you think your model could improve campaign success rates? How would you test that? </h2>"
   ]
  },
  {
   "cell_type": "markdown",
   "metadata": {},
   "source": [
    "In the previous section we showed that our models (especially voting_clf) have an ability to find the customer groups that lead to good ROIs. The improvement of the results depends on the quality of the methods used so far. In order to test the improvement of the results, we could use the methods used so far to select the correct group on the same test data on which we checked the quality of the models and compare the scores. Certainly, using a trained model is a faster way to find a target group than traditional methods. Additionally, I think the success rate will be greatly improved."
   ]
  },
  {
   "cell_type": "markdown",
   "metadata": {},
   "source": [
    "<h3> Optional: Can you write an API for your model that the marketing IT team can call? </h3>"
   ]
  },
  {
   "cell_type": "markdown",
   "metadata": {},
   "source": [
    "Let's save the voting_clf and create an API -> app.ipynb with some tips from [5]."
   ]
  },
  {
   "cell_type": "code",
   "execution_count": 27,
   "metadata": {},
   "outputs": [
    {
     "data": {
      "text/plain": [
       "VotingClassifier(estimators=[('SVC_clf',\n",
       "                              SVC(C=0.01, class_weight='balanced',\n",
       "                                  kernel='linear', probability=True,\n",
       "                                  random_state=42)),\n",
       "                             ('RandomForestClassifier_clf',\n",
       "                              RandomForestClassifier(max_depth=10,\n",
       "                                                     max_features=17,\n",
       "                                                     max_leaf_nodes=8,\n",
       "                                                     max_samples=0.8,\n",
       "                                                     min_samples_split=12,\n",
       "                                                     n_estimators=238,\n",
       "                                                     random_state=42)),\n",
       "                             ('ExtraTreesClassifier_clf',\n",
       "                              ExtraTreesClassifier(max_features=21,\n",
       "                                                   min_samples_split=29,\n",
       "                                                   n_estimators=212,\n",
       "                                                   random_state=42))],\n",
       "                 voting='soft')"
      ]
     },
     "execution_count": 27,
     "metadata": {},
     "output_type": "execute_result"
    }
   ],
   "source": [
    "import joblib\n",
    "joblib.dump(voting_clf, 'models/model.pkl')\n",
    "model = joblib.load('models/model.pkl')\n",
    "model"
   ]
  },
  {
   "cell_type": "markdown",
   "metadata": {},
   "source": [
    "We will save also some rows of our data as sample for prediction, and standard scaler that we used."
   ]
  },
  {
   "cell_type": "code",
   "execution_count": 44,
   "metadata": {},
   "outputs": [
    {
     "data": {
      "text/plain": [
       "['scalers/std_scaler.bin']"
      ]
     },
     "execution_count": 44,
     "metadata": {},
     "output_type": "execute_result"
    }
   ],
   "source": [
    "df_grouped.iloc[:5, :-1].to_csv('data/sample_data.csv', index=False)\n",
    "\n",
    "joblib.dump(scaler, 'scalers/std_scaler.bin', compress=True)"
   ]
  },
  {
   "cell_type": "markdown",
   "metadata": {},
   "source": [
    "<h2> References </h2>\n",
    "[1] https://scikit-learn.org/stable/tutorial/machine_learning_map\n",
    "\n",
    "[2] Geron, Aurelien. (2017). Hands-On Machine Learning with Scikit-Learn & TensorFlow : concepts, tools, and techniques to build intelligent systems . Beijing: O`Reilly.\n",
    "\n",
    "[3] https://stackoverflow.com/questions/51459406/how-to-apply-standardscaler-in-pipeline-in-scikit-learn-sklearn\n",
    "\n",
    "[4] https://www.sciencedirect.com/science/article/pii/S1556086415306043\n",
    "\n",
    "[5] Linux Fundamentals: A Practical Guide for Data Scientists, Machine Learning Engineers, and IT Professionals by Neba Nfonsang"
   ]
  }
 ],
 "metadata": {
  "kernelspec": {
   "display_name": "Python 3",
   "language": "python",
   "name": "python3"
  },
  "language_info": {
   "codemirror_mode": {
    "name": "ipython",
    "version": 3
   },
   "file_extension": ".py",
   "mimetype": "text/x-python",
   "name": "python",
   "nbconvert_exporter": "python",
   "pygments_lexer": "ipython3",
   "version": "3.7.3"
  }
 },
 "nbformat": 4,
 "nbformat_minor": 2
}
